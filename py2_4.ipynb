{
  "nbformat": 4,
  "nbformat_minor": 0,
  "metadata": {
    "colab": {
      "provenance": [],
      "authorship_tag": "ABX9TyPdbPifHPPRnw9DemKxe8BO",
      "include_colab_link": true
    },
    "kernelspec": {
      "name": "python3",
      "display_name": "Python 3"
    },
    "language_info": {
      "name": "python"
    }
  },
  "cells": [
    {
      "cell_type": "markdown",
      "metadata": {
        "id": "view-in-github",
        "colab_type": "text"
      },
      "source": [
        "<a href=\"https://colab.research.google.com/github/kjh0530/python_basic/blob/main/py2_4.ipynb\" target=\"_parent\"><img src=\"https://colab.research.google.com/assets/colab-badge.svg\" alt=\"Open In Colab\"/></a>"
      ]
    },
    {
      "cell_type": "markdown",
      "source": [
        "문자열의 format() 함수"
      ],
      "metadata": {
        "id": "UP2i2YSdxsI1"
      }
    },
    {
      "cell_type": "code",
      "execution_count": 1,
      "metadata": {
        "colab": {
          "base_uri": "https://localhost:8080/"
        },
        "id": "-pgzeSanur_r",
        "outputId": "c2af5059-0313-44d7-e237-0120f1c99089"
      },
      "outputs": [
        {
          "output_type": "stream",
          "name": "stdout",
          "text": [
            "10\n",
            "<class 'str'>\n"
          ]
        }
      ],
      "source": [
        "# format() 함수로 숫자를 문자열로 변환하기\n",
        "string_a = \"{}\".format(10)\n",
        "\n",
        "# 출력하기\n",
        "print(string_a)\n",
        "print(type(string_a))"
      ]
    },
    {
      "cell_type": "code",
      "source": [
        "# format() 함수로 숫자를 문자열로 변환하기\n",
        "format_a = \"{}만 원\".format(5000)\n",
        "format_b = \"문자열 안에 숫자 {} 넣기\".format(5000)\n",
        "format_c = \"{} {} {}\".format(3000, 4000, 5000)\n",
        "format_d = \"{} {} {}\".format(1, \"문자열\", True)\n",
        "\n",
        "# 출력하기\n",
        "print(format_a)\n",
        "print(format_b)\n",
        "print(format_c)\n",
        "print(format_d)"
      ],
      "metadata": {
        "colab": {
          "base_uri": "https://localhost:8080/"
        },
        "id": "bITXiRkLyKdF",
        "outputId": "003f803e-2c27-4181-ec50-e2e7c0e46517"
      },
      "execution_count": 2,
      "outputs": [
        {
          "output_type": "stream",
          "name": "stdout",
          "text": [
            "5000만 원\n",
            "문자열 안에 숫자 5000 넣기\n",
            "3000 4000 5000\n",
            "1 문자열 True\n"
          ]
        }
      ]
    },
    {
      "cell_type": "code",
      "source": [
        "# 정수\n",
        "output_a = \"{:d}\".format(52)\n",
        "\n",
        "# 특정 칸에 출력하ㅣㄱ\n",
        "output_b = \"{:5d}\".format(52)\n",
        "output_c = \"{:10d}\".format(52)\n",
        "\n",
        "# 빈칸을 0으로 채우기\n",
        "output_d = \"{:05d}\".format(52)\n",
        "output_e = \"{:05d}\".format(-52)\n",
        "\n",
        "# 출력\n",
        "print(\"# 기본\")\n",
        "print(output_a)\n",
        "print(\"# 특정 칸에 출력하기\")\n",
        "print(output_b)\n",
        "print(output_c)\n",
        "print(\"# 빈칸을 0으로 채우기\")\n",
        "print(output_d)\n",
        "print(output_e)"
      ],
      "metadata": {
        "colab": {
          "base_uri": "https://localhost:8080/"
        },
        "id": "rqFt_4_g2-lk",
        "outputId": "e943f366-d6dc-4b46-903a-9590229acb39"
      },
      "execution_count": 5,
      "outputs": [
        {
          "output_type": "stream",
          "name": "stdout",
          "text": [
            "# 기본\n",
            "52\n",
            "# 특정 칸에 출력하기\n",
            "   52\n",
            "        52\n",
            "# 빈칸을 0으로 채우기\n",
            "00052\n",
            "-0052\n"
          ]
        }
      ]
    },
    {
      "cell_type": "code",
      "source": [
        "# 기호와 함께 출력하기\n",
        "output_f = \"{:+d}\".format(52)   # 양수\n",
        "output_g = \"{:+d}\".format(-52)  # 음수\n",
        "output_h = \"{: d}\".format(52)   # 양수 : 기호 부분 공백\n",
        "output_i = \"{: d}\".format(-52)  # 음수 : 기호 부분 공백\n",
        "\n",
        "print(\"# 기호와 함께 출력하기\")\n",
        "print(output_f)\n",
        "print(output_g)\n",
        "print(output_h)\n",
        "print(output_i)"
      ],
      "metadata": {
        "colab": {
          "base_uri": "https://localhost:8080/"
        },
        "id": "wdENrl8X4FI2",
        "outputId": "100b0e19-38f8-407d-c838-7e0b33e7a7c6"
      },
      "execution_count": 6,
      "outputs": [
        {
          "output_type": "stream",
          "name": "stdout",
          "text": [
            "# 기호와 함께 출력하기\n",
            "+52\n",
            "-52\n",
            " 52\n",
            "-52\n"
          ]
        }
      ]
    },
    {
      "cell_type": "code",
      "source": [
        "# 소수점 아래 자릿수 지정\n",
        "output_a = \"{:.3f}\".format(52.273)\n",
        "output_b = \"{:.2f}\".format(52.273)\n",
        "output_c = \"{:.1f}\".format(52.273)\n",
        "output_d = \"{:.0f}\".format(52.273)\n",
        "\n",
        "print(output_a)\n",
        "print(output_b)\n",
        "print(output_c)\n",
        "print(output_d)"
      ],
      "metadata": {
        "colab": {
          "base_uri": "https://localhost:8080/"
        },
        "id": "Y34IG-x183dn",
        "outputId": "7c036b55-1d47-4741-d622-20c9388823f9"
      },
      "execution_count": 9,
      "outputs": [
        {
          "output_type": "stream",
          "name": "stdout",
          "text": [
            "52.273\n",
            "52.27\n",
            "52.3\n",
            "52\n"
          ]
        }
      ]
    },
    {
      "cell_type": "code",
      "source": [
        "# 의미 없는 소수점 제거하기\n",
        "output_a = 52.0\n",
        "output_b = \"{:g}\".format(output_a)\n",
        "print(output_a)\n",
        "print(output_b)"
      ],
      "metadata": {
        "colab": {
          "base_uri": "https://localhost:8080/"
        },
        "id": "eXsVMrBq9UD1",
        "outputId": "2821bbe2-b70a-476c-ff25-bb9fe10f3630"
      },
      "execution_count": 10,
      "outputs": [
        {
          "output_type": "stream",
          "name": "stdout",
          "text": [
            "52.0\n",
            "52\n"
          ]
        }
      ]
    },
    {
      "cell_type": "code",
      "source": [
        "# 대소문자 바꾸기\n",
        "string_a = \"Hello Python Programming...!\"\n",
        "b = string_a.upper()\n",
        "c = string_a.lower()\n",
        "\n",
        "print(string_a)\n",
        "print(b)\n",
        "print(c)"
      ],
      "metadata": {
        "colab": {
          "base_uri": "https://localhost:8080/"
        },
        "id": "9K5mcRmx93kp",
        "outputId": "72f7a792-6672-41bf-ec43-dac5878f0663"
      },
      "execution_count": 12,
      "outputs": [
        {
          "output_type": "stream",
          "name": "stdout",
          "text": [
            "Hello Python Programming...!\n",
            "HELLO PYTHON PROGRAMMING...!\n",
            "hello python programming...!\n"
          ]
        }
      ]
    },
    {
      "cell_type": "code",
      "source": [
        "# 문자열 찾기\n",
        "a = \"안녕안녕하세요\".find(\"안녕\")\n",
        "b = \"안녕안녕하세요\".rfind(\"안녕\")\n",
        "print(a)\n",
        "print(b)"
      ],
      "metadata": {
        "colab": {
          "base_uri": "https://localhost:8080/"
        },
        "id": "YmNprcJI-WLQ",
        "outputId": "2a0a1756-0ad3-42a5-cd8d-17bfa3c23909"
      },
      "execution_count": 13,
      "outputs": [
        {
          "output_type": "stream",
          "name": "stdout",
          "text": [
            "0\n",
            "2\n"
          ]
        }
      ]
    },
    {
      "cell_type": "code",
      "source": [
        "# 문자열과 in 연산자\n",
        "print(\"안녕\" in \"안녕하세요\")\n",
        "print(\"아니\" in \"안녕하세요\")"
      ],
      "metadata": {
        "colab": {
          "base_uri": "https://localhost:8080/"
        },
        "id": "yGjWo56QBSwQ",
        "outputId": "a96e2b84-47e2-4d55-ca96-4d41b75f7208"
      },
      "execution_count": 14,
      "outputs": [
        {
          "output_type": "stream",
          "name": "stdout",
          "text": [
            "True\n",
            "False\n"
          ]
        }
      ]
    },
    {
      "cell_type": "code",
      "source": [
        "# split() 함수로 문자열 자르기\n",
        "a = \"10 20 30 40 50\".split(\" \")\n",
        "print(a)"
      ],
      "metadata": {
        "colab": {
          "base_uri": "https://localhost:8080/"
        },
        "id": "4Vt5D0TwB0sI",
        "outputId": "4a8bc478-0bdc-4096-c3f7-159719f59130"
      },
      "execution_count": 15,
      "outputs": [
        {
          "output_type": "stream",
          "name": "stdout",
          "text": [
            "['10', '20', '30', '40', '50']\n"
          ]
        }
      ]
    },
    {
      "cell_type": "markdown",
      "source": [
        "마무리 문제 3"
      ],
      "metadata": {
        "id": "kI4GiUPXHM4e"
      }
    },
    {
      "cell_type": "code",
      "source": [
        "a = input(\"> 1번째 숫자: \")\n",
        "b = input(\"> 2번째 숫자: \")\n",
        "print()\n",
        "\n",
        "print(\"{} + {} = {}\".format(a, b, int(a)+int(b)))"
      ],
      "metadata": {
        "colab": {
          "base_uri": "https://localhost:8080/"
        },
        "id": "mD5xj1wKCMll",
        "outputId": "b380941a-cad4-4650-efcf-18f031a570f3"
      },
      "execution_count": 17,
      "outputs": [
        {
          "output_type": "stream",
          "name": "stdout",
          "text": [
            "> 1번째 숫자: 100\n",
            "> 2번째 숫자: 200\n",
            "\n",
            "100 + 200 = 300\n"
          ]
        }
      ]
    },
    {
      "cell_type": "markdown",
      "source": [
        "도전문제 1"
      ],
      "metadata": {
        "id": "_Whe4NYDH0zn"
      }
    },
    {
      "cell_type": "code",
      "source": [
        "# 구의 부피와 겉넓이\n",
        "r = float(input(\"구의 반지름을 입력해주세요: \"))\n",
        "print(f\"= 구의 부피는 {4/3*3.141592*r**3} 입니다.\")\n",
        "print(f\"= 구의 겉넓이는 {4*3.141592*r**2} 입니다.\")"
      ],
      "metadata": {
        "colab": {
          "base_uri": "https://localhost:8080/"
        },
        "id": "xw3Wrzw5Hjpv",
        "outputId": "6917bb0c-8539-406d-8c2f-e1dff0229765"
      },
      "execution_count": 19,
      "outputs": [
        {
          "output_type": "stream",
          "name": "stdout",
          "text": [
            "구의 반지름을 입력해주세요: 5\n",
            "= 구의 부피는 523.5986666666666 입니다.\n",
            "= 구의 겉넓이는 314.1592 입니다.\n"
          ]
        }
      ]
    },
    {
      "cell_type": "markdown",
      "source": [
        "도전문제 2"
      ],
      "metadata": {
        "id": "rL4SAP36IzBG"
      }
    },
    {
      "cell_type": "code",
      "source": [
        "# 피타고라스의 정리\n",
        "a = float(input(\"밑변의 길이를 입력해주세요: \"))\n",
        "b = float(input(\"높이의 길이를 입력해주세요: \"))\n",
        "print(f\"= 빗변의 길이는 {((a**2)+(b**2))**(1/2)} 입니다.\")"
      ],
      "metadata": {
        "colab": {
          "base_uri": "https://localhost:8080/"
        },
        "id": "EvtK3W_zInie",
        "outputId": "f1e80c5b-89be-4cd0-a951-8b3e66ddcd92"
      },
      "execution_count": 21,
      "outputs": [
        {
          "output_type": "stream",
          "name": "stdout",
          "text": [
            "밑변의 길이를 입력해주세요: 3.0\n",
            "높이의 길이를 입력해주세요: 4.0\n",
            "= 빗변의 길이는 5.0 입니다.\n"
          ]
        }
      ]
    },
    {
      "cell_type": "code",
      "source": [],
      "metadata": {
        "id": "k7fxDPZ9JVrQ"
      },
      "execution_count": null,
      "outputs": []
    }
  ]
}