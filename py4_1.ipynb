{
  "nbformat": 4,
  "nbformat_minor": 0,
  "metadata": {
    "colab": {
      "provenance": [],
      "authorship_tag": "ABX9TyMyQqS/NvHasMJEhsW6sL8p",
      "include_colab_link": true
    },
    "kernelspec": {
      "name": "python3",
      "display_name": "Python 3"
    },
    "language_info": {
      "name": "python"
    }
  },
  "cells": [
    {
      "cell_type": "markdown",
      "metadata": {
        "id": "view-in-github",
        "colab_type": "text"
      },
      "source": [
        "<a href=\"https://colab.research.google.com/github/kjh0530/python_basic/blob/main/py4_1.ipynb\" target=\"_parent\"><img src=\"https://colab.research.google.com/assets/colab-badge.svg\" alt=\"Open In Colab\"/></a>"
      ]
    },
    {
      "cell_type": "markdown",
      "source": [
        "반복문"
      ],
      "metadata": {
        "id": "Ma7WZw5OmoqZ"
      }
    },
    {
      "cell_type": "markdown",
      "source": [
        "리스트(list)"
      ],
      "metadata": {
        "id": "ppnBcwsH7wPA"
      }
    },
    {
      "cell_type": "code",
      "execution_count": 1,
      "metadata": {
        "id": "76Gz9QREc1jz",
        "colab": {
          "base_uri": "https://localhost:8080/"
        },
        "outputId": "211f5dd3-4970-4ff2-f9dc-1bc528d47d1f"
      },
      "outputs": [
        {
          "output_type": "stream",
          "name": "stdout",
          "text": [
            "[273, 32, 103, '문자열', True, False]\n"
          ]
        }
      ],
      "source": [
        "array = [273, 32, 103, \"문자열\", True, False]\n",
        "print(array)"
      ]
    },
    {
      "cell_type": "code",
      "source": [
        "list_a = [273, 32, 103, \"문자열\", True, False]\n",
        "print(list_a[0])\n",
        "print(list_a[1])\n",
        "print(list_a[2])\n",
        "print(list_a[1:3])"
      ],
      "metadata": {
        "colab": {
          "base_uri": "https://localhost:8080/"
        },
        "id": "xq4r4XEc75YP",
        "outputId": "0a096a8c-6960-4ccc-840d-34e5fc9fd817"
      },
      "execution_count": 2,
      "outputs": [
        {
          "output_type": "stream",
          "name": "stdout",
          "text": [
            "273\n",
            "32\n",
            "103\n",
            "[32, 103]\n"
          ]
        }
      ]
    },
    {
      "cell_type": "code",
      "source": [
        "list_a = [273, 32, 103, \"문자열\", True, False]\n",
        "print(list_a)\n",
        "list_a[0] = \"변경\"\n",
        "print(list_a)"
      ],
      "metadata": {
        "colab": {
          "base_uri": "https://localhost:8080/"
        },
        "id": "COPux_aO-NqP",
        "outputId": "37640b0c-055a-416e-abaf-fc836243c3c2"
      },
      "execution_count": 3,
      "outputs": [
        {
          "output_type": "stream",
          "name": "stdout",
          "text": [
            "[273, 32, 103, '문자열', True, False]\n",
            "['변경', 32, 103, '문자열', True, False]\n"
          ]
        }
      ]
    },
    {
      "cell_type": "code",
      "source": [
        "list_a = [273, 32, 103, \"문자열\", True, False]\n",
        "print(list_a[-1])\n",
        "print(list_a[-2])\n",
        "print(list_a[-3])"
      ],
      "metadata": {
        "colab": {
          "base_uri": "https://localhost:8080/"
        },
        "id": "twg1wBif-xgy",
        "outputId": "b6961dfe-bcc1-4e1a-a6b0-077a7b7f4400"
      },
      "execution_count": 4,
      "outputs": [
        {
          "output_type": "stream",
          "name": "stdout",
          "text": [
            "False\n",
            "True\n",
            "문자열\n"
          ]
        }
      ]
    },
    {
      "cell_type": "code",
      "source": [
        "list_a = [273, 32, 103, \"문자열\", True, False]\n",
        "print(list_a[3])\n",
        "print(list_a[3][0])"
      ],
      "metadata": {
        "colab": {
          "base_uri": "https://localhost:8080/"
        },
        "id": "a_aDdxlX_MP1",
        "outputId": "2a31ab20-3f74-42d2-be12-7721893efe36"
      },
      "execution_count": 5,
      "outputs": [
        {
          "output_type": "stream",
          "name": "stdout",
          "text": [
            "문자열\n",
            "문\n"
          ]
        }
      ]
    },
    {
      "cell_type": "code",
      "source": [
        "list_b = [[1, 2, 3], [4, 5, 6], [7, 8, 9]]\n",
        "print(list_b[1])\n",
        "print(list_b[1][1])"
      ],
      "metadata": {
        "colab": {
          "base_uri": "https://localhost:8080/"
        },
        "id": "yelqv_28_m5C",
        "outputId": "1385c2ea-97d5-4893-bc18-b53418b57185"
      },
      "execution_count": 6,
      "outputs": [
        {
          "output_type": "stream",
          "name": "stdout",
          "text": [
            "[4, 5, 6]\n",
            "5\n"
          ]
        }
      ]
    },
    {
      "cell_type": "code",
      "source": [
        "list_c = [273, 32, 103]\n",
        "#list_c[3]"
      ],
      "metadata": {
        "id": "oRn8ZWGHAHnU"
      },
      "execution_count": 8,
      "outputs": []
    },
    {
      "cell_type": "markdown",
      "source": [
        "리스트 연산자"
      ],
      "metadata": {
        "id": "mu3UVyc6CQHb"
      }
    },
    {
      "cell_type": "code",
      "source": [
        "list_a = [1, 2, 3]\n",
        "list_b = [4, 5, 6]\n",
        "\n",
        "print(\"# 리스트\")\n",
        "print(\"list_a =\", list_a)\n",
        "print(\"list_b =\", list_b)\n",
        "print()\n",
        "\n",
        "print(\"# 리스트 기본 연산자\")\n",
        "print(\"list_a + list_b =\", list_a + list_b)\n",
        "print(\"list_a * 3 =\", list_a * 3)\n",
        "print()\n",
        "\n",
        "print(\"# 길이 구하기\")\n",
        "print(\"len(list_a) =\", len(list_a))\n",
        "print()\n",
        "\n",
        "list_c = list_a + list_b\n",
        "print(\"list_c = list_a + list_b\")\n",
        "print(\"list_c =\", list_c)"
      ],
      "metadata": {
        "colab": {
          "base_uri": "https://localhost:8080/"
        },
        "id": "5sGFnNkVAn97",
        "outputId": "dbda2c59-7b83-45dd-c175-3eb03d36fd9e"
      },
      "execution_count": 12,
      "outputs": [
        {
          "output_type": "stream",
          "name": "stdout",
          "text": [
            "# 리스트\n",
            "list_a = [1, 2, 3]\n",
            "list_b = [4, 5, 6]\n",
            "\n",
            "# 리스트 기본 연산자\n",
            "list_a + list_b = [1, 2, 3, 4, 5, 6]\n",
            "list_a * 3 = [1, 2, 3, 1, 2, 3, 1, 2, 3]\n",
            "\n",
            "# 길이 구하기\n",
            "len(list_a) = 3\n",
            "\n",
            "list_c = list_a + list_b\n",
            "list_c = [1, 2, 3, 4, 5, 6]\n"
          ]
        }
      ]
    },
    {
      "cell_type": "markdown",
      "source": [
        "리스트에 요소 추가하기"
      ],
      "metadata": {
        "id": "gCEEIIp3ECx8"
      }
    },
    {
      "cell_type": "code",
      "source": [
        "list_a = [1, 2, 3]\n",
        "\n",
        "print(\"# 리스트 뒤에 요소 추가하기\")\n",
        "list_a.append(4)\n",
        "list_a.append(5)\n",
        "print(list_a)\n",
        "print()\n",
        "\n",
        "print(\"# 리스트 중간에 요소 추가하기\")\n",
        "list_a.insert(0, 10)\n",
        "print(list_a)"
      ],
      "metadata": {
        "colab": {
          "base_uri": "https://localhost:8080/"
        },
        "id": "2GWAlb_ECxzu",
        "outputId": "4d1793be-fa75-4fba-e1cc-e714ece613f6"
      },
      "execution_count": 13,
      "outputs": [
        {
          "output_type": "stream",
          "name": "stdout",
          "text": [
            "# 리스트 뒤에 요소 추가하기\n",
            "[1, 2, 3, 4, 5]\n",
            "\n",
            "# 리스트 중간에 요소 추가하기\n",
            "[10, 1, 2, 3, 4, 5]\n"
          ]
        }
      ]
    },
    {
      "cell_type": "code",
      "source": [
        "list_a = [1, 2, 3]\n",
        "list_a.extend([4, 5, 6])\n",
        "print(list_a)"
      ],
      "metadata": {
        "colab": {
          "base_uri": "https://localhost:8080/"
        },
        "id": "AvjCnGzwEjhU",
        "outputId": "2df82462-38fc-44d8-9c30-33926c08de39"
      },
      "execution_count": 14,
      "outputs": [
        {
          "output_type": "stream",
          "name": "stdout",
          "text": [
            "[1, 2, 3, 4, 5, 6]\n"
          ]
        }
      ]
    },
    {
      "cell_type": "code",
      "source": [
        "list_a = [1, 2, 3]\n",
        "list_b = [4, 5, 6]\n",
        "print(list_a + list_b)\n",
        "print(list_a)\n",
        "list_a.extend(list_b)\n",
        "print(list_a)\n",
        "print(list_b)"
      ],
      "metadata": {
        "colab": {
          "base_uri": "https://localhost:8080/"
        },
        "id": "GjU6Y7TUFNnZ",
        "outputId": "dbd71e27-7551-4dad-df32-3d1dce5b5e71"
      },
      "execution_count": 19,
      "outputs": [
        {
          "output_type": "stream",
          "name": "stdout",
          "text": [
            "[1, 2, 3, 4, 5, 6]\n",
            "[1, 2, 3]\n",
            "[1, 2, 3, 4, 5, 6]\n",
            "[4, 5, 6]\n"
          ]
        }
      ]
    },
    {
      "cell_type": "markdown",
      "source": [
        "리스트 요소 제거"
      ],
      "metadata": {
        "id": "s2tYhHTfIbsx"
      }
    },
    {
      "cell_type": "code",
      "source": [
        "list_a = [0, 1, 2, 3, 4, 5]\n",
        "print(\"# 리스트의 요소 하나 제거하기\")\n",
        "\n",
        "print(\"이전의 리스트:\", list_a)\n",
        "del list_a[1]\n",
        "print(\"del list_a[1]:\", list_a)\n",
        "\n",
        "list_a.pop(2)\n",
        "print(\"list_a.pop(2):\", list_a)"
      ],
      "metadata": {
        "colab": {
          "base_uri": "https://localhost:8080/"
        },
        "id": "2-FEYQsZGL6i",
        "outputId": "0feefd43-f28e-44ca-e2cd-6c4c8f3aad92"
      },
      "execution_count": 20,
      "outputs": [
        {
          "output_type": "stream",
          "name": "stdout",
          "text": [
            "# 리스트의 요소 하나 제거하기\n",
            "이전의 리스트: [0, 1, 2, 3, 4, 5]\n",
            "del list_a[1]: [0, 2, 3, 4, 5]\n",
            "list_a.pop(2): [0, 2, 4, 5]\n"
          ]
        }
      ]
    },
    {
      "cell_type": "code",
      "source": [
        "list_a = [0, 1, 2, 3, 4, 5, 6]\n",
        "list_b = [0, 1, 2, 3, 4, 5, 6]\n",
        "list_c = [0, 1, 2, 3, 4, 5, 6]\n",
        "print(\"# 리스트의 요소 범위로 제거하기\")\n",
        "\n",
        "print(\"이전의 리스트:\", list_a)\n",
        "del list_a[3:6]\n",
        "print(\"del list_a[3:6]:\", list_a)\n",
        "print()\n",
        "\n",
        "print(\"이전의 리스트:\", list_b)\n",
        "del list_b[:3]\n",
        "print(\"del list_a[:3]:\", list_b)\n",
        "print()\n",
        "\n",
        "print(\"이전의 리스트:\", list_c)\n",
        "del list_c[3:]\n",
        "print(\"del list_a[3:]:\", list_c)\n",
        "print()"
      ],
      "metadata": {
        "colab": {
          "base_uri": "https://localhost:8080/"
        },
        "id": "AhderZQlI4Hh",
        "outputId": "3d0f46b6-7f14-43c8-ddf0-b83a234e9edf"
      },
      "execution_count": 22,
      "outputs": [
        {
          "output_type": "stream",
          "name": "stdout",
          "text": [
            "# 리스트의 요소 범위로 제거하기\n",
            "이전의 리스트: [0, 1, 2, 3, 4, 5, 6]\n",
            "del list_a[3:6]: [0, 1, 2, 6]\n",
            "\n",
            "이전의 리스트: [0, 1, 2, 3, 4, 5, 6]\n",
            "del list_a[:3]: [3, 4, 5, 6]\n",
            "\n",
            "이전의 리스트: [0, 1, 2, 3, 4, 5, 6]\n",
            "del list_a[3:]: [0, 1, 2]\n",
            "\n"
          ]
        }
      ]
    },
    {
      "cell_type": "code",
      "source": [
        "# 값으로 제거하기: remove()\n",
        "list_a = [1, 2, 1, 2]\n",
        "list_a.remove(2)\n",
        "print(list_a)"
      ],
      "metadata": {
        "colab": {
          "base_uri": "https://localhost:8080/"
        },
        "id": "xavMtjWlJj5S",
        "outputId": "cd2bb627-0c8a-4b96-8fa1-58aec0a6ba4b"
      },
      "execution_count": 23,
      "outputs": [
        {
          "output_type": "stream",
          "name": "stdout",
          "text": [
            "[1, 1, 2]\n"
          ]
        }
      ]
    },
    {
      "cell_type": "code",
      "source": [
        "list_a = [0, 1, 2, 3, 4, 5]\n",
        "list_a.clear()\n",
        "print(list_a)"
      ],
      "metadata": {
        "colab": {
          "base_uri": "https://localhost:8080/"
        },
        "id": "JDiPB7ToLZbR",
        "outputId": "6f7c1c46-77cc-48b8-bc63-67fa3d1814fe"
      },
      "execution_count": 24,
      "outputs": [
        {
          "output_type": "stream",
          "name": "stdout",
          "text": [
            "[]\n"
          ]
        }
      ]
    },
    {
      "cell_type": "markdown",
      "source": [
        "리스트 정렬하기: sort()"
      ],
      "metadata": {
        "id": "GG86Eou-Meem"
      }
    },
    {
      "cell_type": "code",
      "source": [
        "list_a = [52, 273, 103, 32, 275, 1, 7]\n",
        "print(\"정렬 전:\", list_a)\n",
        "list_a.sort()\n",
        "print(\"정렬 후:\", list_a)\n",
        "list_a.sort(reverse=True)\n",
        "print(\"내림차순 정렬:\", list_a)"
      ],
      "metadata": {
        "colab": {
          "base_uri": "https://localhost:8080/"
        },
        "id": "Vy-ctd-oL7t_",
        "outputId": "7ef6f732-8e02-4a5c-d8be-4572fbc2071d"
      },
      "execution_count": 26,
      "outputs": [
        {
          "output_type": "stream",
          "name": "stdout",
          "text": [
            "정렬 전: [52, 273, 103, 32, 275, 1, 7]\n",
            "정렬 후: [1, 7, 32, 52, 103, 273, 275]\n",
            "내림차순 정렬: [275, 273, 103, 52, 32, 7, 1]\n"
          ]
        }
      ]
    },
    {
      "cell_type": "markdown",
      "source": [
        "리스트 내부에 있는지 확인하기"
      ],
      "metadata": {
        "id": "Wr1FZda-N0y9"
      }
    },
    {
      "cell_type": "code",
      "source": [
        "list_a = [273, 32, 103, 57, 52]\n",
        "print(273 in list_a)\n",
        "print(99 in list_a)"
      ],
      "metadata": {
        "colab": {
          "base_uri": "https://localhost:8080/"
        },
        "id": "CWZwAhi5M8z9",
        "outputId": "29d4879a-f1be-418f-97db-f62ad64ffe85"
      },
      "execution_count": 27,
      "outputs": [
        {
          "output_type": "stream",
          "name": "stdout",
          "text": [
            "True\n",
            "False\n"
          ]
        }
      ]
    },
    {
      "cell_type": "code",
      "source": [
        "list_a = [273, 32, 103, 57, 52]\n",
        "print(273 not in list_a)\n",
        "print(99 not in list_a)"
      ],
      "metadata": {
        "colab": {
          "base_uri": "https://localhost:8080/"
        },
        "id": "gFBRP21zOAyj",
        "outputId": "db5e4b08-bf5d-4bfb-a173-89f9ab6bdb76"
      },
      "execution_count": 28,
      "outputs": [
        {
          "output_type": "stream",
          "name": "stdout",
          "text": [
            "False\n",
            "True\n"
          ]
        }
      ]
    },
    {
      "cell_type": "markdown",
      "source": [
        "for 반복문"
      ],
      "metadata": {
        "id": "c6EsO9qaPRBs"
      }
    },
    {
      "cell_type": "code",
      "source": [
        "for i in range(5):\n",
        "  print(\"출력\")"
      ],
      "metadata": {
        "colab": {
          "base_uri": "https://localhost:8080/"
        },
        "id": "bUxoa0bWOUda",
        "outputId": "91e6f74c-7f58-4321-ebae-bd158e7fe836"
      },
      "execution_count": 29,
      "outputs": [
        {
          "output_type": "stream",
          "name": "stdout",
          "text": [
            "출력\n",
            "출력\n",
            "출력\n",
            "출력\n",
            "출력\n"
          ]
        }
      ]
    },
    {
      "cell_type": "code",
      "source": [
        "array = [273, 32, 103, 57, 52]\n",
        "\n",
        "for element in array:\n",
        "  print(element)"
      ],
      "metadata": {
        "colab": {
          "base_uri": "https://localhost:8080/"
        },
        "id": "79UMZCA3PWlE",
        "outputId": "cf85add3-de7e-404f-b6d0-97b5e2d87eb9"
      },
      "execution_count": 30,
      "outputs": [
        {
          "output_type": "stream",
          "name": "stdout",
          "text": [
            "273\n",
            "32\n",
            "103\n",
            "57\n",
            "52\n"
          ]
        }
      ]
    },
    {
      "cell_type": "code",
      "source": [
        "# 2차원 리스트 중첩 반복문으로 출력\n",
        "list_of_list = [[1, 2, 3], [4, 5, 6, 7], [8, 9]]\n",
        "for a in list_of_list:\n",
        "  for b in a:\n",
        "    print(b)"
      ],
      "metadata": {
        "colab": {
          "base_uri": "https://localhost:8080/"
        },
        "id": "RJmOyVuOP7N7",
        "outputId": "610bbfb7-f55d-4ab9-fcf2-499d9b91e8e0"
      },
      "execution_count": 31,
      "outputs": [
        {
          "output_type": "stream",
          "name": "stdout",
          "text": [
            "1\n",
            "2\n",
            "3\n",
            "4\n",
            "5\n",
            "6\n",
            "7\n",
            "8\n",
            "9\n"
          ]
        }
      ]
    },
    {
      "cell_type": "markdown",
      "source": [
        "4-1 마무리 문제"
      ],
      "metadata": {
        "id": "Bibkp1WHTF_F"
      }
    },
    {
      "cell_type": "code",
      "source": [
        "numbers = [273, 103, 5, 32, 65, 9, 72, 800, 99]\n",
        "\n",
        "for number in numbers:\n",
        "  if number >= 100:\n",
        "    print(\" - 100 이상의 수:\", number)"
      ],
      "metadata": {
        "colab": {
          "base_uri": "https://localhost:8080/"
        },
        "id": "BiNOWlEgR0Qe",
        "outputId": "d84e1453-c66f-409a-b13d-3ef2ffe2b216"
      },
      "execution_count": 32,
      "outputs": [
        {
          "output_type": "stream",
          "name": "stdout",
          "text": [
            " - 100 이상의 수: 273\n",
            " - 100 이상의 수: 103\n",
            " - 100 이상의 수: 800\n"
          ]
        }
      ]
    },
    {
      "cell_type": "code",
      "source": [
        "numbers = [273, 103, 5, 32, 65, 9, 72, 800, 99]\n",
        "\n",
        "for number in numbers:\n",
        "  if number % 2 == 0:\n",
        "    print(\"{} 는 짝수입니다.\".format(number))\n",
        "  else:\n",
        "    print(\"{} 는 홀수입니다.\".format(number))"
      ],
      "metadata": {
        "colab": {
          "base_uri": "https://localhost:8080/"
        },
        "id": "b8o3YQmmTT1s",
        "outputId": "66042852-cbc0-4e60-95b7-ebab3bd3e10d"
      },
      "execution_count": 33,
      "outputs": [
        {
          "output_type": "stream",
          "name": "stdout",
          "text": [
            "273 는 홀수입니다.\n",
            "103 는 홀수입니다.\n",
            "5 는 홀수입니다.\n",
            "32 는 짝수입니다.\n",
            "65 는 홀수입니다.\n",
            "9 는 홀수입니다.\n",
            "72 는 짝수입니다.\n",
            "800 는 짝수입니다.\n",
            "99 는 홀수입니다.\n"
          ]
        }
      ]
    },
    {
      "cell_type": "code",
      "source": [
        "numbers = [273, 103, 5, 32, 65, 9, 72, 800, 99]\n",
        "\n",
        "for number in numbers:\n",
        "  print(\"{} 는 {} 자릿수입니다.\".format(number, len(str(number))))"
      ],
      "metadata": {
        "colab": {
          "base_uri": "https://localhost:8080/"
        },
        "id": "sGIXgv1VT2Aj",
        "outputId": "08a62d2c-ade7-47fe-dd6a-bdf1bb95e147"
      },
      "execution_count": 36,
      "outputs": [
        {
          "output_type": "stream",
          "name": "stdout",
          "text": [
            "273 는 3 자릿수입니다.\n",
            "103 는 3 자릿수입니다.\n",
            "5 는 1 자릿수입니다.\n",
            "32 는 2 자릿수입니다.\n",
            "65 는 2 자릿수입니다.\n",
            "9 는 1 자릿수입니다.\n",
            "72 는 2 자릿수입니다.\n",
            "800 는 3 자릿수입니다.\n",
            "99 는 2 자릿수입니다.\n"
          ]
        }
      ]
    },
    {
      "cell_type": "code",
      "source": [
        "numbers = [1, 2, 3, 4, 5, 6, 7, 8, 9]\n",
        "output = [[], [], []]\n",
        "\n",
        "for number in numbers:\n",
        "  output[(number+2)%3].append(number)\n",
        "\n",
        "print(output)"
      ],
      "metadata": {
        "colab": {
          "base_uri": "https://localhost:8080/"
        },
        "id": "u3zL_PW5U9Xy",
        "outputId": "18dd1218-dbb7-4963-c419-47542b88d0ed"
      },
      "execution_count": 38,
      "outputs": [
        {
          "output_type": "stream",
          "name": "stdout",
          "text": [
            "[[1, 4, 7], [2, 5, 8], [3, 6, 9]]\n"
          ]
        }
      ]
    },
    {
      "cell_type": "code",
      "source": [
        "numbers = [1, 2, 3, 4, 5, 6, 7, 8, 9]\n",
        "\n",
        "for i in range(0, len(numbers) // 2):\n",
        "\n",
        "  j = i*2+1\n",
        "  print(f\"i = {i}, j= {j}\")\n",
        "  numbers[j] = numbers[j] ** 2\n",
        "\n",
        "print(numbers)"
      ],
      "metadata": {
        "colab": {
          "base_uri": "https://localhost:8080/"
        },
        "id": "N8hrH1C8Wl3E",
        "outputId": "15baf866-d766-4e06-d4a7-b98af90e7464"
      },
      "execution_count": 43,
      "outputs": [
        {
          "output_type": "stream",
          "name": "stdout",
          "text": [
            "i = 0, j= 1\n",
            "i = 1, j= 3\n",
            "i = 2, j= 5\n",
            "i = 3, j= 7\n",
            "[1, 4, 3, 16, 5, 36, 7, 64, 9]\n"
          ]
        }
      ]
    },
    {
      "cell_type": "code",
      "source": [],
      "metadata": {
        "id": "Z0hSKum2Ysco"
      },
      "execution_count": null,
      "outputs": []
    }
  ]
}