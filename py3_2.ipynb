{
  "nbformat": 4,
  "nbformat_minor": 0,
  "metadata": {
    "colab": {
      "provenance": [],
      "authorship_tag": "ABX9TyNMsPAgwkILk7VGpgAhHuaw",
      "include_colab_link": true
    },
    "kernelspec": {
      "name": "python3",
      "display_name": "Python 3"
    },
    "language_info": {
      "name": "python"
    }
  },
  "cells": [
    {
      "cell_type": "markdown",
      "metadata": {
        "id": "view-in-github",
        "colab_type": "text"
      },
      "source": [
        "<a href=\"https://colab.research.google.com/github/kjh0530/python_basic/blob/main/py3_2.ipynb\" target=\"_parent\"><img src=\"https://colab.research.google.com/assets/colab-badge.svg\" alt=\"Open In Colab\"/></a>"
      ]
    },
    {
      "cell_type": "markdown",
      "source": [
        "if else  구문"
      ],
      "metadata": {
        "id": "ZV9Kax5evM8D"
      }
    },
    {
      "cell_type": "code",
      "execution_count": 1,
      "metadata": {
        "colab": {
          "base_uri": "https://localhost:8080/"
        },
        "id": "UM2wKxYXtEh3",
        "outputId": "18ae2738-c83d-4047-e477-a3fc626331c1"
      },
      "outputs": [
        {
          "output_type": "stream",
          "name": "stdout",
          "text": [
            "정수 입력> 13\n",
            "홀수입니다\n"
          ]
        }
      ],
      "source": [
        "number = int(input(\"정수 입력> \"))\n",
        "\n",
        "if number % 2 == 0:\n",
        "  print(\"짝수입니다\")\n",
        "else:\n",
        "  print(\"홀수입니다\")"
      ]
    },
    {
      "cell_type": "markdown",
      "source": [
        "elif 구문"
      ],
      "metadata": {
        "id": "iAK8B87UxXyY"
      }
    },
    {
      "cell_type": "code",
      "source": [
        "#계절 구하기\n",
        "import datetime\n",
        "\n",
        "now = datetime.datetime.now()\n",
        "month = now.month\n",
        "\n",
        "if 3 <= month <= 5:\n",
        "  print(\"현재는 봄입니다.\")\n",
        "elif 6 <= month <= 8:\n",
        "  print(\"현재는 여름입니다.\")\n",
        "elif 9 <= month <= 11:\n",
        "  print(\"현재는 가을입니다.\")\n",
        "else:\n",
        "  print(\"현재는 겨울입니다.\")"
      ],
      "metadata": {
        "colab": {
          "base_uri": "https://localhost:8080/"
        },
        "id": "8hQ10jdmvlmM",
        "outputId": "2336d3c8-277c-46f6-bf46-737b5aec962e"
      },
      "execution_count": 3,
      "outputs": [
        {
          "output_type": "stream",
          "name": "stdout",
          "text": [
            "현재는 여름입니다.\n"
          ]
        }
      ]
    },
    {
      "cell_type": "markdown",
      "source": [
        "효율적인 if 조건문 사용"
      ],
      "metadata": {
        "id": "FlySuvNCy33P"
      }
    },
    {
      "cell_type": "code",
      "source": [
        "score = float(input(\"학점 입력> \"))\n",
        "\n",
        "if score == 4.5:\n",
        "  print(\"신\")\n",
        "elif 4.2 <= score < 4.5:\n",
        "  print(\"교수님의 사랑\")\n",
        "elif 3.5 <= score < 4.2:\n",
        "  print(\"현 체제의 수호자\")\n",
        "elif 2.8 <= score < 3.5:\n",
        "  print(\"일반인\")\n",
        "elif 2.3 <= score < 2.8:\n",
        "  print(\"일탈을 꿈꾸는 소시민\")\n",
        "elif 1.75 <= score < 2.3:\n",
        "  print(\"오락문화의 선구자\")\n",
        "elif 1.0 <= score < 1.75:\n",
        "  print(\"불가촉 천민\")\n",
        "elif 0.5 <= score < 1.0:\n",
        "  print(\"자벌레\")\n",
        "elif 0 < score < 0.5:\n",
        "  print(\"플랑크톤\")\n",
        "elif score == 0:\n",
        "  print(\"시대를 앞서가는 혁명의 씨앗\")\n",
        "else:\n",
        "  print(\"잘못된 학점을 입력하였습니다.\")"
      ],
      "metadata": {
        "colab": {
          "base_uri": "https://localhost:8080/"
        },
        "id": "H9evWj9Tx_5S",
        "outputId": "82a88e61-a62e-489a-f29e-c35a4bf9ac40"
      },
      "execution_count": 5,
      "outputs": [
        {
          "output_type": "stream",
          "name": "stdout",
          "text": [
            "학점 입력> 1.86\n",
            "오락문화의 선구자\n"
          ]
        }
      ]
    },
    {
      "cell_type": "code",
      "source": [
        "score = float(input(\"학점 입력> \"))\n",
        "\n",
        "if score == 4.5:\n",
        "  print(\"신\")\n",
        "elif 4.2 <= score:\n",
        "  print(\"교수님의 사랑\")\n",
        "elif 3.5 <= score:\n",
        "  print(\"현 체제의 수호자\")\n",
        "elif 2.8 <= score:\n",
        "  print(\"일반인\")\n",
        "elif 2.3 <= score:\n",
        "  print(\"일탈을 꿈꾸는 소시민\")\n",
        "elif 1.75 <= score:\n",
        "  print(\"오락문화의 선구자\")\n",
        "elif 1.0 <= score:\n",
        "  print(\"불가촉 천민\")\n",
        "elif 0.5 <= score:\n",
        "  print(\"자벌레\")\n",
        "elif 0 < score:\n",
        "  print(\"플랑크톤\")\n",
        "elif score == 0:\n",
        "  print(\"시대를 앞서가는 혁명의 씨앗\")\n",
        "else:\n",
        "  print(\"잘못된 학점을 입력하였습니다.\")"
      ],
      "metadata": {
        "colab": {
          "base_uri": "https://localhost:8080/"
        },
        "id": "nfxY4kUb0ItT",
        "outputId": "6a20cfe5-1c06-45a0-cc9a-fe6c1e284382"
      },
      "execution_count": 6,
      "outputs": [
        {
          "output_type": "stream",
          "name": "stdout",
          "text": [
            "학점 입력> 1.86\n",
            "오락문화의 선구자\n"
          ]
        }
      ]
    },
    {
      "cell_type": "markdown",
      "source": [
        "if 조건문의 매개변수로 불이 아닌 다른 값 넣기"
      ],
      "metadata": {
        "id": "JLO6CF_S6MTx"
      }
    },
    {
      "cell_type": "code",
      "source": [
        "print(\"# if 조건문에 0 넣기\")\n",
        "if 0:\n",
        "  print(\"0은 True로 변환\")\n",
        "else:\n",
        "  print(\"0은 False로 변환\")\n",
        "  print()\n",
        "\n",
        "print(\"# if 조건문에 빈 문자열 넣기\")\n",
        "if \"\":\n",
        "  print(\"빈 문자열은 True로 변환\")\n",
        "else:\n",
        "  print(\"빈 문자열은 False로 변환\")\n",
        "  print()\n"
      ],
      "metadata": {
        "colab": {
          "base_uri": "https://localhost:8080/"
        },
        "id": "hjrvjcQu0sVm",
        "outputId": "351bf7a6-fda0-4efc-9e04-7d194a54c5fe"
      },
      "execution_count": 8,
      "outputs": [
        {
          "output_type": "stream",
          "name": "stdout",
          "text": [
            "# if 조건문에 0 넣기\n",
            "0은 False로 변환\n",
            "\n",
            "# if 조건문에 빈 문자열 넣기\n",
            "빈 문자열은 False로 변환\n",
            "\n"
          ]
        }
      ]
    },
    {
      "cell_type": "markdown",
      "source": [
        "pass 키워드"
      ],
      "metadata": {
        "id": "Cv7QHsMy7rVB"
      }
    },
    {
      "cell_type": "code",
      "source": [
        "# 입력\n",
        "number = input(\"정수 입력>\")\n",
        "number = int(number)\n",
        "\n",
        "#조건문 사용\n",
        "if number > 0:\n",
        "  # 양수일 때: 아직 미구현\n",
        "  pass\n",
        "else:\n",
        "  # 음수일 때: 아직 미구현\n",
        "  pass\n"
      ],
      "metadata": {
        "colab": {
          "base_uri": "https://localhost:8080/"
        },
        "id": "q5TANG2N6ooI",
        "outputId": "85cbb786-e122-43b5-c5ed-3afc3283e7f2"
      },
      "execution_count": 9,
      "outputs": [
        {
          "name": "stdout",
          "output_type": "stream",
          "text": [
            "정수 입력>123\n"
          ]
        }
      ]
    },
    {
      "cell_type": "markdown",
      "source": [
        "띠 찾기"
      ],
      "metadata": {
        "id": "flTkEoLy-e1N"
      }
    },
    {
      "cell_type": "code",
      "source": [
        "str_input = input(\"태어난 해를 입력해 주세요> \")\n",
        "birth_year = int(str_input)\n",
        "\n",
        "if birth_year % 12 == 0:\n",
        "  print(\"원숭이 띠입니다.\")\n",
        "elif birth_year % 12 == 1:\n",
        "  print(\"닭 띠입니다.\")\n",
        "elif birth_year % 12 == 2:\n",
        "  print(\"개 띠입니다.\")\n",
        "elif birth_year % 12 == 3:\n",
        "  print(\"돼지 띠입니다.\")\n",
        "elif birth_year % 12 == 4:\n",
        "  print(\"쥐 띠입니다.\")\n",
        "elif birth_year % 12 == 5:\n",
        "  print(\"소 띠입니다.\")\n",
        "elif birth_year % 12 == 6:\n",
        "  print(\"범 띠입니다.\")\n",
        "elif birth_year % 12 == 7:\n",
        "  print(\"토끼 띠입니다.\")\n",
        "elif birth_year % 12 == 8:\n",
        "  print(\"용 띠입니다.\")\n",
        "elif birth_year % 12 == 9:\n",
        "  print(\"뱀 띠입니다.\")\n",
        "elif birth_year % 12 == 10:\n",
        "  print(\"말 띠입니다.\")\n",
        "elif birth_year % 12 == 11:\n",
        "  print(\"양 띠입니다.\")"
      ],
      "metadata": {
        "colab": {
          "base_uri": "https://localhost:8080/"
        },
        "id": "Xm2cMxCi78FL",
        "outputId": "ce9bf135-0718-4587-92eb-d66964ae15e1"
      },
      "execution_count": 10,
      "outputs": [
        {
          "output_type": "stream",
          "name": "stdout",
          "text": [
            "태어난 해를 입력해 주세요> 2001\n",
            "뱀 띠입니다.\n"
          ]
        }
      ]
    },
    {
      "cell_type": "markdown",
      "source": [
        "도전문제 3-2"
      ],
      "metadata": {
        "id": "ADza0PiD_K-M"
      }
    },
    {
      "cell_type": "code",
      "source": [
        "# 간단한 대화 프로그램\n",
        "import datetime\n",
        "now = datetime.datetime.now()\n",
        "str_input = input(\"입력: \")\n",
        "if str_input == \"안녕\" or str_input == \"안녕하세요.\":\n",
        "  print(\"> 안녕하세요.\")\n",
        "elif str_input == \"지금 몇 시야?\" or str_input == \"지금 몇 시예요?\":\n",
        "  print(\"지금은 {}시입니다\".format(now.hour))\n",
        "else:\n",
        "  print(str_input)\n"
      ],
      "metadata": {
        "colab": {
          "base_uri": "https://localhost:8080/"
        },
        "id": "nXG5YORk_GGt",
        "outputId": "a5629b75-7a89-4659-f7da-b235d8d63d00"
      },
      "execution_count": 16,
      "outputs": [
        {
          "output_type": "stream",
          "name": "stdout",
          "text": [
            "입력: 응애\n",
            "응애\n"
          ]
        }
      ]
    },
    {
      "cell_type": "code",
      "source": [
        "num = int(input(\"정수를 입력해주세요: \"))\n",
        "if num%2 == 0:\n",
        "  print(\"{}은 2로 나누어 떨어지는 숫자입니다.\".format(num))\n",
        "else:\n",
        "  print(\"{}은 2로 나누어 떨어지는 숫자가 아닙니다.\".format(num))\n",
        "if num%3 == 0:\n",
        "  print(\"{}은 3로 나누어 떨어지는 숫자입니다.\".format(num))\n",
        "else:\n",
        "  print(\"{}은 3로 나누어 떨어지는 숫자가 아닙니다.\".format(num))\n",
        "if num%4 == 0:\n",
        "  print(\"{}은 4로 나누어 떨어지는 숫자입니다.\".format(num))\n",
        "else:\n",
        "  print(\"{}은 4로 나누어 떨어지는 숫자가 아닙니다.\".format(num))\n",
        "if num%5 == 0:\n",
        "  print(\"{}은 5로 나누어 떨어지는 숫자입니다.\".format(num))\n",
        "else:\n",
        "  print(\"{}은 5로 나누어 떨어지는 숫자가 아닙니다.\".format(num))"
      ],
      "metadata": {
        "colab": {
          "base_uri": "https://localhost:8080/"
        },
        "id": "P0QCsPkDAtaQ",
        "outputId": "038087d3-7458-4777-ca7d-a7bc18de05de"
      },
      "execution_count": 17,
      "outputs": [
        {
          "output_type": "stream",
          "name": "stdout",
          "text": [
            "정수를 입력해주세요: 273\n",
            "273은 2로 나누어 떨어지는 숫자가 아닙니다.\n",
            "273은 3로 나누어 떨어지는 숫자입니다.\n",
            "273은 4로 나누어 떨어지는 숫자가 아닙니다.\n",
            "273은 5로 나누어 떨어지는 숫자가 아닙니다.\n"
          ]
        }
      ]
    },
    {
      "cell_type": "code",
      "source": [],
      "metadata": {
        "id": "OCx1yNlmB_SX"
      },
      "execution_count": null,
      "outputs": []
    }
  ]
}