{
  "nbformat": 4,
  "nbformat_minor": 0,
  "metadata": {
    "colab": {
      "provenance": [],
      "authorship_tag": "ABX9TyOYBLfy7pY1uEPE1kUVow1F",
      "include_colab_link": true
    },
    "kernelspec": {
      "name": "python3",
      "display_name": "Python 3"
    },
    "language_info": {
      "name": "python"
    }
  },
  "cells": [
    {
      "cell_type": "markdown",
      "metadata": {
        "id": "view-in-github",
        "colab_type": "text"
      },
      "source": [
        "<a href=\"https://colab.research.google.com/github/kjh0530/python_basic/blob/main/py1_3.ipynb\" target=\"_parent\"><img src=\"https://colab.research.google.com/assets/colab-badge.svg\" alt=\"Open In Colab\"/></a>"
      ]
    },
    {
      "cell_type": "code",
      "execution_count": 1,
      "metadata": {
        "colab": {
          "base_uri": "https://localhost:8080/"
        },
        "id": "NbS4hMpYH8fx",
        "outputId": "3fa23221-2400-4eab-eadc-428dfef9ee0f"
      },
      "outputs": [
        {
          "output_type": "stream",
          "name": "stdout",
          "text": [
            "# 하나만 출력합니다.\n",
            "Hello Python Programming...!\n",
            "\n",
            "# 여러 개를 출력합니다.\n",
            "10 20 30 40 50\n",
            "안녕하세요 저의 이름은 김주훈입니다!\n",
            "\n",
            "# 아무것도 출력하지 않습니다.\n",
            "--- 확인 전용선---\n",
            "\n",
            "\n",
            "--- 확인 전용선---\n"
          ]
        }
      ],
      "source": [
        "# 하나만 출력합니다.\n",
        "print(\"# 하나만 출력합니다.\")\n",
        "print(\"Hello Python Programming...!\")\n",
        "print()\n",
        "\n",
        "# 여러 개를 출력합니다.\n",
        "print(\"# 여러 개를 출력합니다.\")\n",
        "print(10, 20, 30, 40, 50)\n",
        "print(\"안녕하세요\", \"저의\", \"이름은\", \"김주훈입니다!\")\n",
        "print()\n",
        "\n",
        "# 아무것도 입력하지 않으면 단순하게 줄바꿈합니다.\n",
        "print(\"# 아무것도 출력하지 않습니다.\")\n",
        "print(\"--- 확인 전용선---\")\n",
        "print()\n",
        "print()\n",
        "print(\"--- 확인 전용선---\")"
      ]
    },
    {
      "cell_type": "code",
      "source": [],
      "metadata": {
        "id": "qSVfohBNN7ir"
      },
      "execution_count": null,
      "outputs": []
    }
  ]
}