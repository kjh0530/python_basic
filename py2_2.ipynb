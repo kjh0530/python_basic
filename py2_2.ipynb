{
  "nbformat": 4,
  "nbformat_minor": 0,
  "metadata": {
    "colab": {
      "provenance": [],
      "authorship_tag": "ABX9TyMtEgFHuzIpL9vy8B2T3tAo",
      "include_colab_link": true
    },
    "kernelspec": {
      "name": "python3",
      "display_name": "Python 3"
    },
    "language_info": {
      "name": "python"
    }
  },
  "cells": [
    {
      "cell_type": "markdown",
      "metadata": {
        "id": "view-in-github",
        "colab_type": "text"
      },
      "source": [
        "<a href=\"https://colab.research.google.com/github/kjh0530/python_basic/blob/main/py2_2.ipynb\" target=\"_parent\"><img src=\"https://colab.research.google.com/assets/colab-badge.svg\" alt=\"Open In Colab\"/></a>"
      ]
    },
    {
      "cell_type": "markdown",
      "source": [
        "숫자"
      ],
      "metadata": {
        "id": "GqA_Pb8uVGCc"
      }
    },
    {
      "cell_type": "code",
      "execution_count": 1,
      "metadata": {
        "colab": {
          "base_uri": "https://localhost:8080/"
        },
        "id": "ik-HHi7qUnLD",
        "outputId": "f9ac456f-04b4-4b23-db9b-fb7813f3ebe0"
      },
      "outputs": [
        {
          "output_type": "stream",
          "name": "stdout",
          "text": [
            "<class 'int'>\n",
            "<class 'float'>\n"
          ]
        }
      ],
      "source": [
        "print(type(52))\n",
        "print(type(52.283))"
      ]
    },
    {
      "cell_type": "markdown",
      "source": [
        "사칙 연산자"
      ],
      "metadata": {
        "id": "qAw-KjVGY2EH"
      }
    },
    {
      "cell_type": "code",
      "source": [
        "print(\"5 + 7 = \", 5+7)\n",
        "print(\"5 - 7 = \", 5-7)\n",
        "print(\"5 * 7 = \", 5*7)\n",
        "print(\"5 / 7 = \", 5/7)"
      ],
      "metadata": {
        "colab": {
          "base_uri": "https://localhost:8080/"
        },
        "id": "0cN3V26ZV9ap",
        "outputId": "c53b3198-875b-4978-e977-220b7f18f8f5"
      },
      "execution_count": 2,
      "outputs": [
        {
          "output_type": "stream",
          "name": "stdout",
          "text": [
            "5 + 7 =  12\n",
            "5 - 7 =  -2\n",
            "5 * 7 =  35\n",
            "5 / 7 =  0.7142857142857143\n"
          ]
        }
      ]
    },
    {
      "cell_type": "markdown",
      "source": [
        "정수 나누기 연산자"
      ],
      "metadata": {
        "id": "s768D5MNYzQX"
      }
    },
    {
      "cell_type": "code",
      "source": [
        "print(\"3 / 2 = \", 3/2)\n",
        "print(\"3 // 2 = \", 3//2)"
      ],
      "metadata": {
        "colab": {
          "base_uri": "https://localhost:8080/"
        },
        "id": "cfUfTX7bWt7e",
        "outputId": "2970e3f3-c862-48d2-dbdb-b9ff6aae85d7"
      },
      "execution_count": 3,
      "outputs": [
        {
          "output_type": "stream",
          "name": "stdout",
          "text": [
            "3 / 2 =  1.5\n",
            "3 // 2 =  1\n"
          ]
        }
      ]
    },
    {
      "cell_type": "markdown",
      "source": [
        "나머지 연산자"
      ],
      "metadata": {
        "id": "m4qZdnZzYyCf"
      }
    },
    {
      "cell_type": "code",
      "source": [
        "print(\"5 % 2 =\", 5%2)"
      ],
      "metadata": {
        "colab": {
          "base_uri": "https://localhost:8080/"
        },
        "id": "_rabi1KwW2Hj",
        "outputId": "a52ecd9f-114f-4cd9-fadc-924c26c0c49c"
      },
      "execution_count": 6,
      "outputs": [
        {
          "output_type": "stream",
          "name": "stdout",
          "text": [
            "5 % 2 = 1\n"
          ]
        }
      ]
    },
    {
      "cell_type": "markdown",
      "source": [
        "제곱 연산자"
      ],
      "metadata": {
        "id": "OMKn5dPBYvxI"
      }
    },
    {
      "cell_type": "code",
      "source": [
        "print(\"2 ** 1 =\", 2**1)\n",
        "print(\"2 ** 2 =\", 2**2)\n",
        "print(\"2 ** 3 =\", 2**3)\n",
        "print(\"2 ** 4 =\", 2**4)"
      ],
      "metadata": {
        "colab": {
          "base_uri": "https://localhost:8080/"
        },
        "id": "9bCj4WPeXk_W",
        "outputId": "3270a006-5494-41c3-ddf8-97b8de776e62"
      },
      "execution_count": 7,
      "outputs": [
        {
          "output_type": "stream",
          "name": "stdout",
          "text": [
            "2 ** 1 = 2\n",
            "2 ** 2 = 4\n",
            "2 ** 3 = 8\n",
            "2 ** 4 = 16\n"
          ]
        }
      ]
    },
    {
      "cell_type": "markdown",
      "source": [
        "연산자의 우선순위"
      ],
      "metadata": {
        "id": "JqFssGwCY6Qa"
      }
    },
    {
      "cell_type": "code",
      "source": [
        "print(2 + 2 - 2 * 2 / 2 * 2)\n",
        "print(2 + 2 - 2 * 2 / 2 + 2)"
      ],
      "metadata": {
        "colab": {
          "base_uri": "https://localhost:8080/"
        },
        "id": "426tyHITYDe5",
        "outputId": "f5e76016-e02b-4eaa-ded1-c913ead18af2"
      },
      "execution_count": 8,
      "outputs": [
        {
          "output_type": "stream",
          "name": "stdout",
          "text": [
            "0.0\n",
            "4.0\n"
          ]
        }
      ]
    },
    {
      "cell_type": "code",
      "source": [
        "print((5+3)*2)"
      ],
      "metadata": {
        "colab": {
          "base_uri": "https://localhost:8080/"
        },
        "id": "GCagKlz4ZHCJ",
        "outputId": "e86a53ee-e5be-45f5-ab0d-01a1091bc983"
      },
      "execution_count": 10,
      "outputs": [
        {
          "output_type": "stream",
          "name": "stdout",
          "text": [
            "16\n"
          ]
        }
      ]
    },
    {
      "cell_type": "code",
      "source": [
        "print(\"안녕\"+\"하세요\"*3)\n",
        "print((\"안녕\"+\"하세요\")*3)"
      ],
      "metadata": {
        "colab": {
          "base_uri": "https://localhost:8080/"
        },
        "id": "rLWHHT23ZMTS",
        "outputId": "61e41393-398b-4c99-b2ea-90b7c2842d69"
      },
      "execution_count": 11,
      "outputs": [
        {
          "output_type": "stream",
          "name": "stdout",
          "text": [
            "안녕하세요하세요하세요\n",
            "안녕하세요안녕하세요안녕하세요\n"
          ]
        }
      ]
    },
    {
      "cell_type": "code",
      "source": [],
      "metadata": {
        "id": "7iL8RlEqZYbB"
      },
      "execution_count": null,
      "outputs": []
    }
  ]
}