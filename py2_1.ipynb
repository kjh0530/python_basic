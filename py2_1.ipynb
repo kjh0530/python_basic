{
  "nbformat": 4,
  "nbformat_minor": 0,
  "metadata": {
    "colab": {
      "provenance": [],
      "authorship_tag": "ABX9TyNv1qNhenXRiujTwRt/2XwK",
      "include_colab_link": true
    },
    "kernelspec": {
      "name": "python3",
      "display_name": "Python 3"
    },
    "language_info": {
      "name": "python"
    }
  },
  "cells": [
    {
      "cell_type": "markdown",
      "metadata": {
        "id": "view-in-github",
        "colab_type": "text"
      },
      "source": [
        "<a href=\"https://colab.research.google.com/github/kjh0530/python_basic/blob/main/py2_1.ipynb\" target=\"_parent\"><img src=\"https://colab.research.google.com/assets/colab-badge.svg\" alt=\"Open In Colab\"/></a>"
      ]
    },
    {
      "cell_type": "markdown",
      "source": [
        "자료형"
      ],
      "metadata": {
        "id": "iPlsuNUFW7d2"
      }
    },
    {
      "cell_type": "code",
      "execution_count": 1,
      "metadata": {
        "colab": {
          "base_uri": "https://localhost:8080/"
        },
        "id": "dhjSlCKhUwDC",
        "outputId": "612ef6da-e0c1-448d-a12a-31f1058021bd"
      },
      "outputs": [
        {
          "output_type": "stream",
          "name": "stdout",
          "text": [
            "<class 'str'>\n",
            "<class 'int'>\n"
          ]
        }
      ],
      "source": [
        "print(type(\"안녕하세요\"))\n",
        "print(type(273))"
      ]
    },
    {
      "cell_type": "code",
      "source": [
        "print('\"안녕하세요\"라고 말했습니다.')"
      ],
      "metadata": {
        "colab": {
          "base_uri": "https://localhost:8080/"
        },
        "id": "5AHIx54VXciL",
        "outputId": "9d9cbcd4-28cc-4489-e724-7b2549940baa"
      },
      "execution_count": 2,
      "outputs": [
        {
          "output_type": "stream",
          "name": "stdout",
          "text": [
            "\"안녕하세요\"라고 말했습니다.\n"
          ]
        }
      ]
    },
    {
      "cell_type": "code",
      "source": [
        "print(\"\\\"안녕하세요\\\"라고 말했습니다.\")"
      ],
      "metadata": {
        "colab": {
          "base_uri": "https://localhost:8080/"
        },
        "id": "apo4X-xDaiKG",
        "outputId": "18ea13bd-0ba7-4300-db2a-32bed486bbf3"
      },
      "execution_count": 3,
      "outputs": [
        {
          "output_type": "stream",
          "name": "stdout",
          "text": [
            "\"안녕하세요\"라고 말했습니다.\n"
          ]
        }
      ]
    },
    {
      "cell_type": "code",
      "source": [
        "print(\"안녕하세요\\n안녕하세요\")\n",
        "print(\"안녕하세요\\t안녕하세요\")"
      ],
      "metadata": {
        "colab": {
          "base_uri": "https://localhost:8080/"
        },
        "id": "Ici1u_mnbK89",
        "outputId": "3599e202-83a4-4fd0-9302-b1cc9432ce1e"
      },
      "execution_count": 4,
      "outputs": [
        {
          "output_type": "stream",
          "name": "stdout",
          "text": [
            "안녕하세요\n",
            "안녕하세요\n",
            "안녕하세요\t안녕하세요\n"
          ]
        }
      ]
    },
    {
      "cell_type": "code",
      "source": [
        "print(\"이름\\t나이\\t지역\")\n",
        "print(\"윤인성\\t25\\t강서구\")\n",
        "print(\"윤아린\\t24\\t강서구\")\n",
        "print(\"구름\\t3\\t강서구\")"
      ],
      "metadata": {
        "colab": {
          "base_uri": "https://localhost:8080/"
        },
        "id": "ezwT_4JvbUF2",
        "outputId": "e2faf639-2e8f-475a-c8b9-435c84c325e7"
      },
      "execution_count": 5,
      "outputs": [
        {
          "output_type": "stream",
          "name": "stdout",
          "text": [
            "이름\t나이\t지역\n",
            "윤인성\t25\t강서구\n",
            "윤아린\t24\t강서구\n",
            "구름\t3\t강서구\n"
          ]
        }
      ]
    },
    {
      "cell_type": "code",
      "source": [
        "print(\"안\\n녕\\n하\\n세\\n요\")\n",
        "print(\"\"\"안\n",
        "녕\n",
        "하\n",
        "세\n",
        "요\"\"\")\n",
        "print(\"\"\"\\\n",
        "안\n",
        "녕\n",
        "하\n",
        "세\n",
        "요\\\n",
        "\"\"\")\n",
        "\n"
      ],
      "metadata": {
        "colab": {
          "base_uri": "https://localhost:8080/"
        },
        "id": "wGo7dEN-bspJ",
        "outputId": "70d226f9-cd0d-49de-b1dc-a4a51e05cea9"
      },
      "execution_count": 7,
      "outputs": [
        {
          "output_type": "stream",
          "name": "stdout",
          "text": [
            "안\n",
            "녕\n",
            "하\n",
            "세\n",
            "요\n",
            "안\n",
            "녕\n",
            "하\n",
            "세\n",
            "요\n",
            "안\n",
            "녕\n",
            "하\n",
            "세\n",
            "요\n"
          ]
        }
      ]
    },
    {
      "cell_type": "code",
      "source": [
        "print(\"안녕\" + \"하세요\")\n",
        "print(\"안녕하세요\" + \"!\")\n",
        "print(\"안녕하세요\" + \"1\")"
      ],
      "metadata": {
        "colab": {
          "base_uri": "https://localhost:8080/"
        },
        "id": "yVF5jYy4cp8p",
        "outputId": "7f0d5a77-5619-4dc9-e2ed-2b4abd9af006"
      },
      "execution_count": 8,
      "outputs": [
        {
          "output_type": "stream",
          "name": "stdout",
          "text": [
            "안녕하세요\n",
            "안녕하세요!\n",
            "안녕하세요1\n"
          ]
        }
      ]
    },
    {
      "cell_type": "code",
      "source": [
        "print(\"안녕하세요\" * 3)\n",
        "print(3*\"안녕하세요\")"
      ],
      "metadata": {
        "colab": {
          "base_uri": "https://localhost:8080/"
        },
        "id": "1xqRgcBHdjzX",
        "outputId": "46363d98-98b9-4328-84b6-7622ef391dd0"
      },
      "execution_count": 10,
      "outputs": [
        {
          "output_type": "stream",
          "name": "stdout",
          "text": [
            "안녕하세요안녕하세요안녕하세요\n",
            "안녕하세요안녕하세요안녕하세요\n"
          ]
        }
      ]
    },
    {
      "cell_type": "code",
      "source": [
        "print(\"문자 선택 연산자\")\n",
        "print(\"안녕하세요\"[0])\n",
        "print(\"안녕하세요\"[1])\n",
        "print(\"안녕하세요\"[2])\n",
        "print(\"안녕하세요\"[3])\n",
        "print(\"안녕하세요\"[4])"
      ],
      "metadata": {
        "colab": {
          "base_uri": "https://localhost:8080/"
        },
        "id": "7tjf-uhAdzmt",
        "outputId": "5ca8d45d-f829-4ceb-bed7-519f55a9f4c5"
      },
      "execution_count": 11,
      "outputs": [
        {
          "output_type": "stream",
          "name": "stdout",
          "text": [
            "문자 선택 연산자\n",
            "안\n",
            "녕\n",
            "하\n",
            "세\n",
            "요\n"
          ]
        }
      ]
    },
    {
      "cell_type": "code",
      "source": [
        "print(\"문자 선택 연산자\")\n",
        "print(\"안녕하세요\"[-1])\n",
        "print(\"안녕하세요\"[-2])\n",
        "print(\"안녕하세요\"[-3])\n",
        "print(\"안녕하세요\"[-4])\n",
        "print(\"안녕하세요\"[-5])"
      ],
      "metadata": {
        "colab": {
          "base_uri": "https://localhost:8080/"
        },
        "id": "sP4aZA4wefqi",
        "outputId": "6cc87760-7a33-4f7f-c4ed-1588a226a577"
      },
      "execution_count": 12,
      "outputs": [
        {
          "output_type": "stream",
          "name": "stdout",
          "text": [
            "문자 선택 연산자\n",
            "요\n",
            "세\n",
            "하\n",
            "녕\n",
            "안\n"
          ]
        }
      ]
    },
    {
      "cell_type": "code",
      "source": [
        "print(\"안녕하세요\"[1:4])\n",
        "print(\"안녕하세요\"[1:])\n",
        "print(\"안녕하세요\"[:3])"
      ],
      "metadata": {
        "colab": {
          "base_uri": "https://localhost:8080/"
        },
        "id": "uPj7S352ez4p",
        "outputId": "f4a3eedb-8802-4b51-9c11-dce2bc78c585"
      },
      "execution_count": 14,
      "outputs": [
        {
          "output_type": "stream",
          "name": "stdout",
          "text": [
            "녕하세\n",
            "녕하세요\n",
            "안녕하\n"
          ]
        }
      ]
    },
    {
      "cell_type": "markdown",
      "source": [
        "인덱싱할 때 문자열 범위를 벗어나면 오류가 나니 조심"
      ],
      "metadata": {
        "id": "BBv1wbG6gGyx"
      }
    },
    {
      "cell_type": "code",
      "source": [
        "print(len(\"안녕하세요\"))#문자열 길이 구하기"
      ],
      "metadata": {
        "colab": {
          "base_uri": "https://localhost:8080/"
        },
        "id": "3mTlamf4fH6T",
        "outputId": "ac64a782-188f-4f6a-b1fb-0e3d366996f3"
      },
      "execution_count": 15,
      "outputs": [
        {
          "output_type": "stream",
          "name": "stdout",
          "text": [
            "5\n"
          ]
        }
      ]
    },
    {
      "cell_type": "code",
      "source": [],
      "metadata": {
        "id": "VKBrmd2kgU2f"
      },
      "execution_count": null,
      "outputs": []
    }
  ]
}