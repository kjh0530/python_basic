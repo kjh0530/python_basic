{
  "nbformat": 4,
  "nbformat_minor": 0,
  "metadata": {
    "colab": {
      "provenance": [],
      "authorship_tag": "ABX9TyPrJycIYgzZC1RJfwm9PoLh",
      "include_colab_link": true
    },
    "kernelspec": {
      "name": "python3",
      "display_name": "Python 3"
    },
    "language_info": {
      "name": "python"
    }
  },
  "cells": [
    {
      "cell_type": "markdown",
      "metadata": {
        "id": "view-in-github",
        "colab_type": "text"
      },
      "source": [
        "<a href=\"https://colab.research.google.com/github/kjh0530/python_basic/blob/main/py3_1.ipynb\" target=\"_parent\"><img src=\"https://colab.research.google.com/assets/colab-badge.svg\" alt=\"Open In Colab\"/></a>"
      ]
    },
    {
      "cell_type": "markdown",
      "source": [
        "불 자료형: 비교 연산자"
      ],
      "metadata": {
        "id": "nPWgLgP6A4VO"
      }
    },
    {
      "cell_type": "code",
      "execution_count": null,
      "metadata": {
        "colab": {
          "base_uri": "https://localhost:8080/"
        },
        "id": "BeKpZTQv7UuE",
        "outputId": "66fe17cf-5eb7-4c72-9195-ef938f8f4940"
      },
      "outputs": [
        {
          "output_type": "stream",
          "name": "stdout",
          "text": [
            "False\n",
            "True\n",
            "True\n",
            "False\n",
            "True\n",
            "False\n"
          ]
        }
      ],
      "source": [
        "print(10 == 100)\n",
        "print(10 != 100)\n",
        "print(10 < 100)\n",
        "print(10 > 100)\n",
        "print(10 <= 100)\n",
        "print(10 >= 100)"
      ]
    },
    {
      "cell_type": "markdown",
      "source": [
        "논리 연산자(not, and, or)"
      ],
      "metadata": {
        "id": "mqV6K-ULDDBE"
      }
    },
    {
      "cell_type": "code",
      "source": [
        "print(not True)\n",
        "print(not False)"
      ],
      "metadata": {
        "colab": {
          "base_uri": "https://localhost:8080/"
        },
        "id": "jEVFOQNhBBSx",
        "outputId": "1d05d859-1daf-4a66-928c-982f71e18423"
      },
      "execution_count": null,
      "outputs": [
        {
          "output_type": "stream",
          "name": "stdout",
          "text": [
            "False\n",
            "True\n"
          ]
        }
      ]
    },
    {
      "cell_type": "code",
      "source": [
        "x = 10\n",
        "under_20 = x < 20\n",
        "print(\"under_20:\", under_20)\n",
        "print(\"not under_20:\", not under_20)"
      ],
      "metadata": {
        "colab": {
          "base_uri": "https://localhost:8080/"
        },
        "id": "cV6WSS0EC8aF",
        "outputId": "d24abd8d-a0b3-47b3-e18c-a5fd4420fb3f"
      },
      "execution_count": null,
      "outputs": [
        {
          "output_type": "stream",
          "name": "stdout",
          "text": [
            "under_20: True\n",
            "not under_20: False\n"
          ]
        }
      ]
    },
    {
      "cell_type": "code",
      "source": [
        "print(True and True)\n",
        "print(True and False)\n",
        "print(False and True)\n",
        "print(False and False)\n",
        "print(True or True)\n",
        "print(True or False)\n",
        "print(False or True)\n",
        "print(False or False)"
      ],
      "metadata": {
        "colab": {
          "base_uri": "https://localhost:8080/"
        },
        "id": "hr-dSh_HDRY3",
        "outputId": "7ca8f45a-e6dc-4d97-dff4-44237917125c"
      },
      "execution_count": null,
      "outputs": [
        {
          "output_type": "stream",
          "name": "stdout",
          "text": [
            "True\n",
            "False\n",
            "False\n",
            "False\n",
            "True\n",
            "True\n",
            "True\n",
            "False\n"
          ]
        }
      ]
    },
    {
      "cell_type": "markdown",
      "source": [
        "if 조건문"
      ],
      "metadata": {
        "id": "Sibh5j6NcUyy"
      }
    },
    {
      "cell_type": "code",
      "source": [
        "if True:\n",
        "  print(\"True 입니다.\")\n",
        "  print(\"real True\")\n",
        "\n",
        "if False:\n",
        "  print(\"False 임\")"
      ],
      "metadata": {
        "id": "3nvq8_b8Dxq8",
        "colab": {
          "base_uri": "https://localhost:8080/"
        },
        "outputId": "41ad22fe-23d3-4370-f601-0fb361b2a683"
      },
      "execution_count": null,
      "outputs": [
        {
          "output_type": "stream",
          "name": "stdout",
          "text": [
            "True 입니다.\n",
            "real True\n"
          ]
        }
      ]
    },
    {
      "cell_type": "code",
      "source": [
        "number = int(input(\"정수 입력> \"))\n",
        "if number > 0:\n",
        "  print(\"양수 입니다\")\n",
        "if number < 0:\n",
        "  print(\"음수 입니다\")\n",
        "if number == 0:\n",
        "  print(\"0 입니다\")"
      ],
      "metadata": {
        "colab": {
          "base_uri": "https://localhost:8080/"
        },
        "id": "RHuS9TqjdPNE",
        "outputId": "c9bac267-a0c4-4bb0-b974-741308f00e5d"
      },
      "execution_count": null,
      "outputs": [
        {
          "output_type": "stream",
          "name": "stdout",
          "text": [
            "정수 입력> -45\n",
            "음수 입니다\n"
          ]
        }
      ]
    },
    {
      "cell_type": "markdown",
      "source": [
        "날짜 시간 활용하기 datetime"
      ],
      "metadata": {
        "id": "bN4F6r5ve0Lt"
      }
    },
    {
      "cell_type": "code",
      "source": [
        "import datetime\n",
        "now = datetime.datetime.now()\n",
        "\n",
        "print(now.year, \"년\")\n",
        "print(now.month, \"월\")\n",
        "print(now.day, \"일\")\n",
        "print(now.hour, \"시\")\n",
        "print(now.minute, \"분\")\n",
        "print(now.second, \"초\")"
      ],
      "metadata": {
        "colab": {
          "base_uri": "https://localhost:8080/"
        },
        "id": "s-heMCtldejO",
        "outputId": "80a7ac1c-23e1-4041-8338-1efb2d765488"
      },
      "execution_count": null,
      "outputs": [
        {
          "output_type": "stream",
          "name": "stdout",
          "text": [
            "2024 년\n",
            "7 월\n",
            "7 일\n",
            "9 시\n",
            "18 분\n",
            "16 초\n"
          ]
        }
      ]
    },
    {
      "cell_type": "code",
      "source": [
        "import datetime\n",
        "now = datetime.datetime.now()\n",
        "if now.hour < 12:\n",
        "  print(\"현재 시각은 {}시로 오전입니다.\".format(now.hour))\n",
        "if now.hour >= 12:\n",
        "  print(\"현재 시각은 {}시로 오후입니다.\".format(now.hour))\n"
      ],
      "metadata": {
        "colab": {
          "base_uri": "https://localhost:8080/"
        },
        "id": "2h1TOFI0fJ8E",
        "outputId": "a7c5a555-f0c5-4ae0-8ac5-678f8096a3c6"
      },
      "execution_count": null,
      "outputs": [
        {
          "output_type": "stream",
          "name": "stdout",
          "text": [
            "현재 시각은 9시로 오전입니다.\n"
          ]
        }
      ]
    },
    {
      "cell_type": "code",
      "source": [
        "import datetime\n",
        "now = datetime.datetime.now()\n",
        "\n",
        "if 3<=now.month<=5:\n",
        "  print(\"이번 달은 {}월로 봄 입니다.\".format(now.month))\n",
        "if 6<=now.month<=8:\n",
        "  print(\"이번 달은 {}월로 여름 입니다.\".format(now.month))\n",
        "if 9<=now.month<=11:\n",
        "  print(\"이번 달은 {}월로 가을 입니다.\".format(now.month))\n",
        "if now.month == 12 or 1<=now.month<=2:\n",
        "  print(\"이번 달은 {}월로 겨울 입니다.\".format(now.month))"
      ],
      "metadata": {
        "colab": {
          "base_uri": "https://localhost:8080/"
        },
        "id": "QnHhtqNmgIWE",
        "outputId": "b13a9326-59ac-4913-8b3e-9d6b4469bba4"
      },
      "execution_count": null,
      "outputs": [
        {
          "output_type": "stream",
          "name": "stdout",
          "text": [
            "이번 달은 7월로 여름 입니다.\n"
          ]
        }
      ]
    },
    {
      "cell_type": "code",
      "source": [
        "number = int(input(\"정수 입력> \"))\n",
        "if number%2 == 0:\n",
        "  print(\"짝수입니다\")\n",
        "if number%2 != 0:\n",
        "  print(\"홀수입니다.\")\n"
      ],
      "metadata": {
        "colab": {
          "base_uri": "https://localhost:8080/"
        },
        "id": "gtrZqyXCg_HB",
        "outputId": "117cdc50-4d02-406f-bf1d-7b5304553196"
      },
      "execution_count": null,
      "outputs": [
        {
          "output_type": "stream",
          "name": "stdout",
          "text": [
            "정수 입력> 1231654654\n",
            "짝수입니다\n"
          ]
        }
      ]
    },
    {
      "cell_type": "code",
      "source": [
        "number = input(\"정수 입력> \")\n",
        "last_character = number[-1]\n",
        "\n",
        "if last_character in \"02468\":\n",
        "  print(\"짝수입니다\")\n",
        "if last_character in \"13579\":\n",
        "  print(\"홀수입니다\")"
      ],
      "metadata": {
        "colab": {
          "base_uri": "https://localhost:8080/"
        },
        "id": "MyuiXmJ5hxgf",
        "outputId": "06eab479-5338-4816-cd3f-818431c68b57"
      },
      "execution_count": null,
      "outputs": [
        {
          "output_type": "stream",
          "name": "stdout",
          "text": [
            "정수 입력> 2134564\n",
            "짝수입니다\n"
          ]
        }
      ]
    },
    {
      "cell_type": "code",
      "source": [
        "a = int(input(\"1번 숫자: \"))\n",
        "b = int(input(\"2번 숫자: \"))\n",
        "print()\n",
        "if a>b :\n",
        "  print(\"1번 숫자인 {}가 2번 숫자인 {}보다 큽니다\".format(a, b))\n",
        "if a<b :\n",
        "  print(\"2번 숫자인 {}가 1번 숫자인 {}보다 큽니다\".format(b,a))"
      ],
      "metadata": {
        "colab": {
          "base_uri": "https://localhost:8080/"
        },
        "id": "PbodJFrii7d_",
        "outputId": "251b211a-08cd-4a8d-ed60-412f7a567183"
      },
      "execution_count": null,
      "outputs": [
        {
          "output_type": "stream",
          "name": "stdout",
          "text": [
            "1번 숫자: 10\n",
            "2번 숫자: 100\n",
            "\n",
            "2번 숫자인 100가 1번 숫자인 10보다 큽니다\n"
          ]
        }
      ]
    },
    {
      "cell_type": "code",
      "source": [],
      "metadata": {
        "id": "SaWH_DGUkSDT"
      },
      "execution_count": null,
      "outputs": []
    }
  ]
}