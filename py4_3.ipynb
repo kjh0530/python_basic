{
  "nbformat": 4,
  "nbformat_minor": 0,
  "metadata": {
    "colab": {
      "provenance": [],
      "authorship_tag": "ABX9TyNdFzGNNjftWt8B6764tt0/",
      "include_colab_link": true
    },
    "kernelspec": {
      "name": "python3",
      "display_name": "Python 3"
    },
    "language_info": {
      "name": "python"
    }
  },
  "cells": [
    {
      "cell_type": "markdown",
      "metadata": {
        "id": "view-in-github",
        "colab_type": "text"
      },
      "source": [
        "<a href=\"https://colab.research.google.com/github/kjh0530/python_basic/blob/main/py4_3.ipynb\" target=\"_parent\"><img src=\"https://colab.research.google.com/assets/colab-badge.svg\" alt=\"Open In Colab\"/></a>"
      ]
    },
    {
      "cell_type": "markdown",
      "source": [
        "범위 range()"
      ],
      "metadata": {
        "id": "7Ped24jHpVQf"
      }
    },
    {
      "cell_type": "code",
      "execution_count": null,
      "metadata": {
        "colab": {
          "base_uri": "https://localhost:8080/"
        },
        "id": "eFLsO3zSmmJC",
        "outputId": "c9b87c0b-1289-4880-e7da-904b0439cab8"
      },
      "outputs": [
        {
          "output_type": "stream",
          "name": "stdout",
          "text": [
            "range(0, 5)\n",
            "[0, 1, 2, 3, 4]\n"
          ]
        }
      ],
      "source": [
        "a = range(5)\n",
        "print(a)\n",
        "print(list(a))"
      ]
    },
    {
      "cell_type": "code",
      "source": [
        "print(list(range(0, 5)))\n",
        "print(list(range(5, 10)))"
      ],
      "metadata": {
        "colab": {
          "base_uri": "https://localhost:8080/"
        },
        "id": "UMaZvPiypf9p",
        "outputId": "d25d84f9-384b-479c-c14e-97385a94e5d3"
      },
      "execution_count": null,
      "outputs": [
        {
          "output_type": "stream",
          "name": "stdout",
          "text": [
            "[0, 1, 2, 3, 4]\n",
            "[5, 6, 7, 8, 9]\n"
          ]
        }
      ]
    },
    {
      "cell_type": "code",
      "source": [
        "print(list(range(0, 10, 3)))\n",
        "print(list(range(5, 30, 5)))"
      ],
      "metadata": {
        "colab": {
          "base_uri": "https://localhost:8080/"
        },
        "id": "u3v1Q-q6pwKV",
        "outputId": "097643b1-d38d-439a-e67a-3af406ccb9ef"
      },
      "execution_count": null,
      "outputs": [
        {
          "output_type": "stream",
          "name": "stdout",
          "text": [
            "[0, 3, 6, 9]\n",
            "[5, 10, 15, 20, 25]\n"
          ]
        }
      ]
    },
    {
      "cell_type": "markdown",
      "source": [
        "for 반복문과 범위"
      ],
      "metadata": {
        "id": "nbTWAUoyrBmX"
      }
    },
    {
      "cell_type": "code",
      "source": [
        "for i in range(5):\n",
        "  print(str(i) + \"= 반복 변수\")\n",
        "print()\n",
        "\n",
        "for i in range(5, 10):\n",
        "  print(str(i) + \"= 반복 변수\")\n",
        "print()\n",
        "\n",
        "for i in range(0, 10, 3):\n",
        "  print(str(i) + \"= 반복 변수\")\n",
        "print()"
      ],
      "metadata": {
        "colab": {
          "base_uri": "https://localhost:8080/"
        },
        "id": "H5LkHmgEqRwV",
        "outputId": "fa688cd7-22df-4d18-9087-ebf2c86fe58f"
      },
      "execution_count": null,
      "outputs": [
        {
          "output_type": "stream",
          "name": "stdout",
          "text": [
            "0= 반복 변수\n",
            "1= 반복 변수\n",
            "2= 반복 변수\n",
            "3= 반복 변수\n",
            "4= 반복 변수\n",
            "\n",
            "5= 반복 변수\n",
            "6= 반복 변수\n",
            "7= 반복 변수\n",
            "8= 반복 변수\n",
            "9= 반복 변수\n",
            "\n",
            "0= 반복 변수\n",
            "3= 반복 변수\n",
            "6= 반복 변수\n",
            "9= 반복 변수\n",
            "\n"
          ]
        }
      ]
    },
    {
      "cell_type": "markdown",
      "source": [
        "for 반복문: 리스트와 범위 조합"
      ],
      "metadata": {
        "id": "vHKKchy7rx1-"
      }
    },
    {
      "cell_type": "code",
      "source": [
        "array = [273, 32, 103, 57, 52]\n",
        "\n",
        "for element in array:\n",
        "  print(element)"
      ],
      "metadata": {
        "colab": {
          "base_uri": "https://localhost:8080/"
        },
        "id": "MorDOXMrrO1h",
        "outputId": "ed95f18a-0d9b-4d3b-8e1b-80ba4144aa3e"
      },
      "execution_count": null,
      "outputs": [
        {
          "output_type": "stream",
          "name": "stdout",
          "text": [
            "273\n",
            "32\n",
            "103\n",
            "57\n",
            "52\n"
          ]
        }
      ]
    },
    {
      "cell_type": "code",
      "source": [
        "array = [273, 32, 103, 57, 52]\n",
        "\n",
        "for i in range(len(array)):\n",
        "  print(\"{}번째 반복: {}\".format(i, array[i]))"
      ],
      "metadata": {
        "colab": {
          "base_uri": "https://localhost:8080/"
        },
        "id": "QJfFmT7HsFz9",
        "outputId": "7ce7a4c3-50c9-4faa-d37d-83301b42e899"
      },
      "execution_count": null,
      "outputs": [
        {
          "output_type": "stream",
          "name": "stdout",
          "text": [
            "0번째 반복: 273\n",
            "1번째 반복: 32\n",
            "2번째 반복: 103\n",
            "3번째 반복: 57\n",
            "4번째 반복: 52\n"
          ]
        }
      ]
    },
    {
      "cell_type": "markdown",
      "source": [
        "역반복문"
      ],
      "metadata": {
        "id": "A_4JyySwuOmM"
      }
    },
    {
      "cell_type": "code",
      "source": [
        "for i in range(4, 0 - 1, -1):\n",
        "  print(\"현재 반복 변수: {}\".format(i))"
      ],
      "metadata": {
        "colab": {
          "base_uri": "https://localhost:8080/"
        },
        "id": "RWu_Kifrs5x9",
        "outputId": "2ac9a8e7-5ed6-41ec-af50-a62407c3974d"
      },
      "execution_count": null,
      "outputs": [
        {
          "output_type": "stream",
          "name": "stdout",
          "text": [
            "현재 반복 변수: 4\n",
            "현재 반복 변수: 3\n",
            "현재 반복 변수: 2\n",
            "현재 반복 변수: 1\n",
            "현재 반복 변수: 0\n"
          ]
        }
      ]
    },
    {
      "cell_type": "code",
      "source": [
        "for i in reversed(range(5)):\n",
        "  print(\"현재 반복 변수: {}\".format(i))"
      ],
      "metadata": {
        "colab": {
          "base_uri": "https://localhost:8080/"
        },
        "id": "qaBh3jmIuYCF",
        "outputId": "89d11a35-a460-4b45-ff55-c7ad186c7283"
      },
      "execution_count": null,
      "outputs": [
        {
          "output_type": "stream",
          "name": "stdout",
          "text": [
            "현재 반복 변수: 4\n",
            "현재 반복 변수: 3\n",
            "현재 반복 변수: 2\n",
            "현재 반복 변수: 1\n",
            "현재 반복 변수: 0\n"
          ]
        }
      ]
    },
    {
      "cell_type": "markdown",
      "source": [
        "중첩 반복문으로 피라미드 만들기"
      ],
      "metadata": {
        "id": "hX75NGjqu-PM"
      }
    },
    {
      "cell_type": "code",
      "source": [
        "string = \"\"\n",
        "for i in range(1, 10):\n",
        "  for j in range(i):\n",
        "    string += \"*\"\n",
        "  string += \"\\n\"\n",
        "print(string)"
      ],
      "metadata": {
        "colab": {
          "base_uri": "https://localhost:8080/"
        },
        "id": "WSx8H7GWut1m",
        "outputId": "3581e746-e8c0-4b21-ab52-0a2a00b509b0"
      },
      "execution_count": null,
      "outputs": [
        {
          "output_type": "stream",
          "name": "stdout",
          "text": [
            "*\n",
            "**\n",
            "***\n",
            "****\n",
            "*****\n",
            "******\n",
            "*******\n",
            "********\n",
            "*********\n",
            "\n"
          ]
        }
      ]
    },
    {
      "cell_type": "code",
      "source": [
        "string = \"\"\n",
        "for i in range(1, 15):\n",
        "  for k in range(14, i, -1):\n",
        "    string += \" \"\n",
        "  for j in range(2*i-1):\n",
        "    string += \"*\"\n",
        "  string += \"\\n\"\n",
        "print(string)"
      ],
      "metadata": {
        "colab": {
          "base_uri": "https://localhost:8080/"
        },
        "id": "OTJsn3pGveRh",
        "outputId": "33d3155a-4a46-4e1c-b0f9-1cb6902472ad"
      },
      "execution_count": null,
      "outputs": [
        {
          "output_type": "stream",
          "name": "stdout",
          "text": [
            "             *\n",
            "            ***\n",
            "           *****\n",
            "          *******\n",
            "         *********\n",
            "        ***********\n",
            "       *************\n",
            "      ***************\n",
            "     *****************\n",
            "    *******************\n",
            "   *********************\n",
            "  ***********************\n",
            " *************************\n",
            "***************************\n",
            "\n"
          ]
        }
      ]
    },
    {
      "cell_type": "markdown",
      "source": [
        "while 반복문"
      ],
      "metadata": {
        "id": "SM-gbXSCzf0M"
      }
    },
    {
      "cell_type": "code",
      "source": [
        "i = 0\n",
        "while i < 10:\n",
        "  print(\"{}번째 반복입니다.\".format(i))\n",
        "  i += 1"
      ],
      "metadata": {
        "colab": {
          "base_uri": "https://localhost:8080/"
        },
        "id": "bLVAOsOgyBfL",
        "outputId": "ecf81ec9-ad18-41fa-b810-57899dd2e6ab"
      },
      "execution_count": null,
      "outputs": [
        {
          "output_type": "stream",
          "name": "stdout",
          "text": [
            "0번째 반복입니다.\n",
            "1번째 반복입니다.\n",
            "2번째 반복입니다.\n",
            "3번째 반복입니다.\n",
            "4번째 반복입니다.\n",
            "5번째 반복입니다.\n",
            "6번째 반복입니다.\n",
            "7번째 반복입니다.\n",
            "8번째 반복입니다.\n",
            "9번째 반복입니다.\n"
          ]
        }
      ]
    },
    {
      "cell_type": "code",
      "source": [
        "list_test = [1, 2, 1, 2]\n",
        "value = 2\n",
        "\n",
        "while value in list_test:\n",
        "  list_test.remove(value)\n",
        "print(list_test)"
      ],
      "metadata": {
        "colab": {
          "base_uri": "https://localhost:8080/"
        },
        "id": "IMFN9Kw_zpU9",
        "outputId": "1960359e-17f3-4116-f89b-f21a003fa50a"
      },
      "execution_count": null,
      "outputs": [
        {
          "output_type": "stream",
          "name": "stdout",
          "text": [
            "[1, 1]\n"
          ]
        }
      ]
    },
    {
      "cell_type": "code",
      "source": [
        "# 시간과 관련된 기능을 가져온다\n",
        "import time\n",
        "\n",
        "number = 0\n",
        "\n",
        "# 유닉스 타임에 5를 더한 후\n",
        "target_tick = time.time() + 5\n",
        "\n",
        "# 5초가 지날 때까지 반복\n",
        "while time.time() < target_tick:\n",
        "  number += 1\n",
        "\n",
        "print(\"5초 동안 {}번 반복했습니다.\".format(number))"
      ],
      "metadata": {
        "id": "0fK02jVT0U6Y",
        "colab": {
          "base_uri": "https://localhost:8080/"
        },
        "outputId": "48bd56f2-337f-43ba-b488-dbc37a499b44"
      },
      "execution_count": 3,
      "outputs": [
        {
          "output_type": "stream",
          "name": "stdout",
          "text": [
            "5초 동안 24244320번 반복했습니다.\n"
          ]
        }
      ]
    },
    {
      "cell_type": "code",
      "source": [
        "i = 0\n",
        "\n",
        "while True:\n",
        "  print(\"{}번째 반복문입니다.\".format(i))\n",
        "  i = i + 1\n",
        "  input_text = input(\"> 종료하시겠습니까?(y/n): \")\n",
        "  if input_text in [\"y\", \"Y\"]:\n",
        "    print(\"반복을 종료합니다.\")\n",
        "    break"
      ],
      "metadata": {
        "colab": {
          "base_uri": "https://localhost:8080/"
        },
        "id": "D5KPNhsMOpPW",
        "outputId": "874cbe2d-0184-4fcc-9d8b-914457911632"
      },
      "execution_count": 4,
      "outputs": [
        {
          "output_type": "stream",
          "name": "stdout",
          "text": [
            "0번째 반복문입니다.\n",
            "> 종료하시겠습니까?(y/n): n\n",
            "1번째 반복문입니다.\n",
            "> 종료하시겠습니까?(y/n): n\n",
            "2번째 반복문입니다.\n",
            "> 종료하시겠습니까?(y/n): n\n",
            "3번째 반복문입니다.\n",
            "> 종료하시겠습니까?(y/n): n\n",
            "4번째 반복문입니다.\n",
            "> 종료하시겠습니까?(y/n): y\n",
            "반복을 종료합니다.\n"
          ]
        }
      ]
    },
    {
      "cell_type": "code",
      "source": [
        "numbers = [5, 15, 6, 20, 7, 25]\n",
        "\n",
        "for number in numbers:\n",
        "  if number < 10:\n",
        "    continue\n",
        "  print(number)"
      ],
      "metadata": {
        "colab": {
          "base_uri": "https://localhost:8080/"
        },
        "id": "f2cLhWF7QOSN",
        "outputId": "61808443-5974-42fa-8571-4b49f47f399e"
      },
      "execution_count": 5,
      "outputs": [
        {
          "output_type": "stream",
          "name": "stdout",
          "text": [
            "15\n",
            "20\n",
            "25\n"
          ]
        }
      ]
    },
    {
      "cell_type": "markdown",
      "source": [
        "마무리 문제"
      ],
      "metadata": {
        "id": "lQkqQMGWiwYu"
      }
    },
    {
      "cell_type": "code",
      "source": [
        "key_list = [\"name\", \"hp\", \"mp\", \"level\"]\n",
        "value_list = [\"기사\", 200, 30, 5]\n",
        "character = {}\n",
        "for i in range(0, len(key_list)):\n",
        "  character[key_list[i]] = value_list[i]\n",
        "print(character)"
      ],
      "metadata": {
        "colab": {
          "base_uri": "https://localhost:8080/"
        },
        "id": "2KYtFkOCQ8y3",
        "outputId": "34d72863-fd33-4376-ab40-0566463dec75"
      },
      "execution_count": 12,
      "outputs": [
        {
          "output_type": "stream",
          "name": "stdout",
          "text": [
            "{'name': '기사', 'hp': 200, 'mp': 30, 'level': 5}\n"
          ]
        }
      ]
    },
    {
      "cell_type": "code",
      "source": [
        "limit = 10000\n",
        "i = 1\n",
        "sum_value = 0\n",
        "while sum_value < 10000:\n",
        "  sum_value = sum_value + i\n",
        "  i = i + 1\n",
        "\n",
        "print(\"{}를 더할 때 {}을 넘으며 그때의 값은 {}입니다.\".format(i-1, limit, sum_value))"
      ],
      "metadata": {
        "colab": {
          "base_uri": "https://localhost:8080/"
        },
        "id": "s0gZ2YdZkUBe",
        "outputId": "e401d5c2-74d5-4b4c-84be-bb0d8ebe6832"
      },
      "execution_count": 15,
      "outputs": [
        {
          "output_type": "stream",
          "name": "stdout",
          "text": [
            "141를 더할 때 10000을 넘으며 그때의 값은 10011입니다.\n"
          ]
        }
      ]
    },
    {
      "cell_type": "code",
      "source": [
        "max_value = 0\n",
        "a = 0\n",
        "b = 0\n",
        "\n",
        "for i in range(1, 100):\n",
        "  j = 100 - i\n",
        "  current = i*j\n",
        "  if max_value < current:\n",
        "    a = i\n",
        "    b = j\n",
        "    max_value = current\n",
        "print(\"최대가 되는 경우: {} * {} = {}\".format(a, b, max_value))"
      ],
      "metadata": {
        "colab": {
          "base_uri": "https://localhost:8080/"
        },
        "id": "X-U2BP-Tm94X",
        "outputId": "a71b0a49-f291-4949-ef10-9db4b4741d36"
      },
      "execution_count": 18,
      "outputs": [
        {
          "output_type": "stream",
          "name": "stdout",
          "text": [
            "최대가 되는 경우: 50 * 50 = 2500\n"
          ]
        }
      ]
    },
    {
      "cell_type": "code",
      "source": [],
      "metadata": {
        "id": "7tmM9WolngRo"
      },
      "execution_count": null,
      "outputs": []
    }
  ]
}