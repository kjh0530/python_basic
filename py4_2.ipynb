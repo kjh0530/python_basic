{
  "nbformat": 4,
  "nbformat_minor": 0,
  "metadata": {
    "colab": {
      "provenance": [],
      "authorship_tag": "ABX9TyMgGucoQD0FbYzMilvEObry",
      "include_colab_link": true
    },
    "kernelspec": {
      "name": "python3",
      "display_name": "Python 3"
    },
    "language_info": {
      "name": "python"
    }
  },
  "cells": [
    {
      "cell_type": "markdown",
      "metadata": {
        "id": "view-in-github",
        "colab_type": "text"
      },
      "source": [
        "<a href=\"https://colab.research.google.com/github/kjh0530/python_basic/blob/main/py4_2.ipynb\" target=\"_parent\"><img src=\"https://colab.research.google.com/assets/colab-badge.svg\" alt=\"Open In Colab\"/></a>"
      ]
    },
    {
      "cell_type": "markdown",
      "source": [
        "딕셔너리"
      ],
      "metadata": {
        "id": "snknnWkiNvXQ"
      }
    },
    {
      "cell_type": "code",
      "execution_count": 2,
      "metadata": {
        "colab": {
          "base_uri": "https://localhost:8080/"
        },
        "id": "lpL6Z6EP_uv1",
        "outputId": "2cf4ae8a-e59d-41de-e4bc-0559ffb06317"
      },
      "outputs": [
        {
          "output_type": "execute_result",
          "data": {
            "text/plain": [
              "{'name': '어벤저스 엔드게임', 'type': '히어로 무비'}"
            ]
          },
          "metadata": {},
          "execution_count": 2
        }
      ],
      "source": [
        "# 딕셔너리 선언\n",
        "dict_a = {\n",
        "    \"name\": \"어벤저스 엔드게임\",\n",
        "    \"type\": \"히어로 무비\"\n",
        "}\n",
        "dict_a"
      ]
    },
    {
      "cell_type": "code",
      "source": [
        "dict_a[\"name\"]"
      ],
      "metadata": {
        "colab": {
          "base_uri": "https://localhost:8080/",
          "height": 35
        },
        "id": "CJRq66K8OwWe",
        "outputId": "cb502264-d572-4919-b15b-94782f429594"
      },
      "execution_count": 3,
      "outputs": [
        {
          "output_type": "execute_result",
          "data": {
            "text/plain": [
              "'어벤저스 엔드게임'"
            ],
            "application/vnd.google.colaboratory.intrinsic+json": {
              "type": "string"
            }
          },
          "metadata": {},
          "execution_count": 3
        }
      ]
    },
    {
      "cell_type": "code",
      "source": [
        "# 딕셔너리의 요소에 접근하기\n",
        "dic = {\n",
        "    \"name\": \"7D 건조 망고\",\n",
        "    \"type\": \"당절임\",\n",
        "    \"ingredient\": [\"망고\", \"설탕\", \"메타중아황산나트륨\", \"치자황색소\"],\n",
        "    \"origin\": \"필리핀\"\n",
        "}\n",
        "\n",
        "print(\"name:\", dic[\"name\"])\n",
        "print(\"type:\", dic[\"type\"])\n",
        "print(\"ingredient:\", dic[\"ingredient\"])\n",
        "print(\"origin:\", dic[\"origin\"])\n",
        "print()\n",
        "\n",
        "dic[\"name\"] = \"8D 건조 망고\"\n",
        "print(\"name:\", dic[\"name\"])"
      ],
      "metadata": {
        "colab": {
          "base_uri": "https://localhost:8080/"
        },
        "id": "3oqLqCBEPTn9",
        "outputId": "76561e37-3e3b-4893-a6be-d062eb2268f0"
      },
      "execution_count": 4,
      "outputs": [
        {
          "output_type": "stream",
          "name": "stdout",
          "text": [
            "name: 7D 건조 망고\n",
            "type: 당절임\n",
            "ingredient: ['망고', '설탕', '메타중아황산나트륨', '치자황색소']\n",
            "origin: 필리핀\n",
            "\n",
            "name: 8D 건조 망고\n"
          ]
        }
      ]
    },
    {
      "cell_type": "code",
      "source": [
        "dic[\"price\"] = 5000\n",
        "print(dic)"
      ],
      "metadata": {
        "colab": {
          "base_uri": "https://localhost:8080/"
        },
        "id": "QRV3o6vzQr4T",
        "outputId": "32c1720d-d895-459c-a644-a46b0a13e3bc"
      },
      "execution_count": 5,
      "outputs": [
        {
          "output_type": "stream",
          "name": "stdout",
          "text": [
            "{'name': '8D 건조 망고', 'type': '당절임', 'ingredient': ['망고', '설탕', '메타중아황산나트륨', '치자황색소'], 'origin': '필리핀', 'price': 5000}\n"
          ]
        }
      ]
    },
    {
      "cell_type": "code",
      "source": [
        "del dic[\"ingredient\"]\n",
        "print(dic)"
      ],
      "metadata": {
        "colab": {
          "base_uri": "https://localhost:8080/"
        },
        "id": "FpQNmq2_Ulrj",
        "outputId": "1f6da5a2-608a-4ba3-e346-244d0a94291a"
      },
      "execution_count": 6,
      "outputs": [
        {
          "output_type": "stream",
          "name": "stdout",
          "text": [
            "{'name': '8D 건조 망고', 'type': '당절임', 'origin': '필리핀', 'price': 5000}\n"
          ]
        }
      ]
    },
    {
      "cell_type": "code",
      "source": [
        "# 딕셔너리에 요소 추가하기/제거하기\n",
        "dic = {}\n",
        "print(\"요소 추가 이전:\", dic)\n",
        "dic[\"name\"] = \"새로운 이름\"\n",
        "dic[\"head\"] = \"새로운 정신\"\n",
        "dic[\"body\"] = \"새로운 몸\"\n",
        "print(\"요소 추가 이후:\", dic)\n",
        "del dic[\"body\"]\n",
        "print(\"요소 제거 이후\", dic)"
      ],
      "metadata": {
        "colab": {
          "base_uri": "https://localhost:8080/"
        },
        "id": "2p-A8TT6VRHP",
        "outputId": "aef0b8ba-8bdb-4934-9075-9df9f88c633c"
      },
      "execution_count": 8,
      "outputs": [
        {
          "output_type": "stream",
          "name": "stdout",
          "text": [
            "요소 추가 이전: {}\n",
            "요소 추가 이후: {'name': '새로운 이름', 'head': '새로운 정신', 'body': '새로운 몸'}\n",
            "요소 제거 이후 {'name': '새로운 이름', 'head': '새로운 정신'}\n"
          ]
        }
      ]
    },
    {
      "cell_type": "code",
      "source": [
        "dic = {\n",
        "    \"name\": \"7D 건조 망고\",\n",
        "    \"type\": \"당절임\",\n",
        "    \"ingredient\": [\"망고\", \"설탕\", \"메타중아황산나트륨\", \"치자황색소\"],\n",
        "    \"origin\": \"필리핀\"\n",
        "}\n",
        "key = input(\"> 접근하고자 하는 키: \")\n",
        "if key in dic:\n",
        "  print(dic[key])\n",
        "else:\n",
        "  print(\"존재하지 않는 키에 접근하고 있습니다.\")"
      ],
      "metadata": {
        "colab": {
          "base_uri": "https://localhost:8080/"
        },
        "id": "9YxOILV_Vv5P",
        "outputId": "351aa546-9a14-47c6-f197-6b5684be4d36"
      },
      "execution_count": 9,
      "outputs": [
        {
          "output_type": "stream",
          "name": "stdout",
          "text": [
            "> 접근하고자 하는 키: color\n",
            "존재하지 않는 키에 접근하고 있습니다.\n"
          ]
        }
      ]
    },
    {
      "cell_type": "code",
      "source": [
        "# get 함수를 이용해 KeyError 예방\n",
        "dic = {\n",
        "    \"name\": \"7D 건조 망고\",\n",
        "    \"type\": \"당절임\",\n",
        "    \"ingredient\": [\"망고\", \"설탕\", \"메타중아황산나트륨\", \"치자황색소\"],\n",
        "    \"origin\": \"필리핀\"\n",
        "}\n",
        "\n",
        "value = dic.get(\"존재하지 않는 키\")\n",
        "print(\"값:\", value)\n",
        "\n",
        "if value == None:\n",
        "  print(\"존재하지 않는 키에 접근했었습니다.\")"
      ],
      "metadata": {
        "colab": {
          "base_uri": "https://localhost:8080/"
        },
        "id": "mMP97D76W2DU",
        "outputId": "fb06423d-2304-4f6e-da42-0b5ab32fbfb4"
      },
      "execution_count": 10,
      "outputs": [
        {
          "output_type": "stream",
          "name": "stdout",
          "text": [
            "값: None\n",
            "존재하지 않는 키에 접근했었습니다.\n"
          ]
        }
      ]
    },
    {
      "cell_type": "markdown",
      "source": [
        "for 반복문: 딕셔너리와 함께 사용"
      ],
      "metadata": {
        "id": "iJuLGWeEXmbX"
      }
    },
    {
      "cell_type": "code",
      "source": [
        "dic = {\n",
        "    \"name\": \"7D 건조 망고\",\n",
        "    \"type\": \"당절임\",\n",
        "    \"ingredient\": [\"망고\", \"설탕\", \"메타중아황산나트륨\", \"치자황색소\"],\n",
        "    \"origin\": \"필리핀\"\n",
        "}\n",
        "\n",
        "for key in dic:\n",
        "  print(key, \":\", dic[key])"
      ],
      "metadata": {
        "colab": {
          "base_uri": "https://localhost:8080/"
        },
        "id": "Fza64Nt5Xj_R",
        "outputId": "7ebe830f-d629-444f-8101-93d22cc73084"
      },
      "execution_count": 11,
      "outputs": [
        {
          "output_type": "stream",
          "name": "stdout",
          "text": [
            "name : 7D 건조 망고\n",
            "type : 당절임\n",
            "ingredient : ['망고', '설탕', '메타중아황산나트륨', '치자황색소']\n",
            "origin : 필리핀\n"
          ]
        }
      ]
    },
    {
      "cell_type": "markdown",
      "source": [
        "마무리 문제"
      ],
      "metadata": {
        "id": "g1WMlGEFY9jq"
      }
    },
    {
      "cell_type": "code",
      "source": [
        "pets = [\n",
        "    {\"name\": \"구름\", \"age\": 5},\n",
        "    {\"name\": \"초코\", \"age\": 3},\n",
        "    {\"name\": \"아지\", \"age\": 1},\n",
        "    {\"name\": \"호랑이\", \"age\": 1}\n",
        "]\n",
        "\n",
        "print(\"# 우리 동네 애완 동물들\")\n",
        "i = 0\n",
        "for i in pets:\n",
        "  print(i[\"name\"], \"{}살\".format(i[\"age\"]))\n"
      ],
      "metadata": {
        "colab": {
          "base_uri": "https://localhost:8080/"
        },
        "id": "NrX1MF-7YdzU",
        "outputId": "3f595a98-01fa-4bee-af89-1bdda9d2a44e"
      },
      "execution_count": 20,
      "outputs": [
        {
          "output_type": "stream",
          "name": "stdout",
          "text": [
            "# 우리 동네 애완 동물들\n",
            "구름 5살\n",
            "초코 3살\n",
            "아지 1살\n",
            "호랑이 1살\n"
          ]
        }
      ]
    },
    {
      "cell_type": "code",
      "source": [
        "numbers = [1,2,6,8,4,3,2,1,9,5,4,9,7,2,1,3,5,4,8,9,7,2,3]\n",
        "counter = {}\n",
        "\n",
        "for number in numbers:\n",
        "  if number not in counter:\n",
        "    counter[number] = 1\n",
        "  else:\n",
        "    counter[number] += 1\n",
        "print(counter)"
      ],
      "metadata": {
        "colab": {
          "base_uri": "https://localhost:8080/"
        },
        "id": "nmoCWI3RZEzS",
        "outputId": "23b10f35-271c-4c7f-d2dd-870e91186f0c"
      },
      "execution_count": 22,
      "outputs": [
        {
          "output_type": "stream",
          "name": "stdout",
          "text": [
            "{1: 3, 2: 4, 6: 1, 8: 2, 4: 3, 3: 3, 9: 3, 5: 2, 7: 2}\n"
          ]
        }
      ]
    },
    {
      "cell_type": "code",
      "source": [
        "character = {\n",
        "    \"name\": \"기사\",\n",
        "    \"level\": 12,\n",
        "    \"items\": {\n",
        "        \"sword\": \"불꽃의 검\",\n",
        "        \"armor\": \"풀플레이트\"\n",
        "    },\n",
        "    \"skill\": [\"베기\", \"세게 베기\", \"아주 세게 베기\"]\n",
        "}\n",
        "\n",
        "for key in character:\n",
        "  if type(character[key]) is not dict and type(character[key]) is not list:\n",
        "    print(key, \":\", character[key])\n",
        "  if type(character[key]) is dict:\n",
        "    for i in character[key]:\n",
        "      print(i, \":\", character[key][i])\n",
        "  if type(character[key]) is list:\n",
        "    for j in character[key]:\n",
        "      print(key, \":\", j)\n",
        ""
      ],
      "metadata": {
        "colab": {
          "base_uri": "https://localhost:8080/"
        },
        "id": "RtUawnG7cNch",
        "outputId": "52bbce7c-77b7-4afe-959a-f855f59a2cac"
      },
      "execution_count": 39,
      "outputs": [
        {
          "output_type": "stream",
          "name": "stdout",
          "text": [
            "name : 기사\n",
            "level : 12\n",
            "sword : 불꽃의 검\n",
            "armor : 풀플레이트\n",
            "skill : 베기\n",
            "skill : 세게 베기\n",
            "skill : 아주 세게 베기\n"
          ]
        }
      ]
    },
    {
      "cell_type": "code",
      "source": [],
      "metadata": {
        "id": "XhASlOYiem14"
      },
      "execution_count": null,
      "outputs": []
    }
  ]
}