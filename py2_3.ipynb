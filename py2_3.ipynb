{
  "nbformat": 4,
  "nbformat_minor": 0,
  "metadata": {
    "colab": {
      "provenance": [],
      "authorship_tag": "ABX9TyOi5zdtXdSXyd69F56A9TwM",
      "include_colab_link": true
    },
    "kernelspec": {
      "name": "python3",
      "display_name": "Python 3"
    },
    "language_info": {
      "name": "python"
    }
  },
  "cells": [
    {
      "cell_type": "markdown",
      "metadata": {
        "id": "view-in-github",
        "colab_type": "text"
      },
      "source": [
        "<a href=\"https://colab.research.google.com/github/kjh0530/python_basic/blob/main/py2_3.ipynb\" target=\"_parent\"><img src=\"https://colab.research.google.com/assets/colab-badge.svg\" alt=\"Open In Colab\"/></a>"
      ]
    },
    {
      "cell_type": "markdown",
      "source": [
        "변수와 입력"
      ],
      "metadata": {
        "id": "639oMJ3XcJqY"
      }
    },
    {
      "cell_type": "code",
      "execution_count": null,
      "metadata": {
        "id": "h2uh5hFscF0o"
      },
      "outputs": [],
      "source": [
        "pi = 3.14159265"
      ]
    },
    {
      "cell_type": "code",
      "source": [
        "pi + 2"
      ],
      "metadata": {
        "colab": {
          "base_uri": "https://localhost:8080/"
        },
        "id": "2AEzYIS7csfj",
        "outputId": "2d2fbd9d-40f0-4623-fd48-8f27ac60f04a"
      },
      "execution_count": null,
      "outputs": [
        {
          "output_type": "execute_result",
          "data": {
            "text/plain": [
              "5.14159265"
            ]
          },
          "metadata": {},
          "execution_count": 2
        }
      ]
    },
    {
      "cell_type": "code",
      "source": [
        "pi - 2"
      ],
      "metadata": {
        "colab": {
          "base_uri": "https://localhost:8080/"
        },
        "id": "gTXOVZh-ctkY",
        "outputId": "a8ca7b55-d73f-4a36-978f-d87acae1287a"
      },
      "execution_count": null,
      "outputs": [
        {
          "output_type": "execute_result",
          "data": {
            "text/plain": [
              "1.1415926500000002"
            ]
          },
          "metadata": {},
          "execution_count": 3
        }
      ]
    },
    {
      "cell_type": "code",
      "source": [
        "pi * 2"
      ],
      "metadata": {
        "colab": {
          "base_uri": "https://localhost:8080/"
        },
        "id": "RlaLOp0ucu4g",
        "outputId": "37b1341d-c0a3-41a1-e579-fd69a36538d9"
      },
      "execution_count": null,
      "outputs": [
        {
          "output_type": "execute_result",
          "data": {
            "text/plain": [
              "6.2831853"
            ]
          },
          "metadata": {},
          "execution_count": 4
        }
      ]
    },
    {
      "cell_type": "code",
      "source": [
        "pi / 2"
      ],
      "metadata": {
        "colab": {
          "base_uri": "https://localhost:8080/"
        },
        "id": "Q-M6sClVcwNo",
        "outputId": "1b564519-e021-44b2-a394-87010552ed88"
      },
      "execution_count": null,
      "outputs": [
        {
          "output_type": "execute_result",
          "data": {
            "text/plain": [
              "1.570796325"
            ]
          },
          "metadata": {},
          "execution_count": 5
        }
      ]
    },
    {
      "cell_type": "code",
      "source": [
        "pi % 2"
      ],
      "metadata": {
        "colab": {
          "base_uri": "https://localhost:8080/"
        },
        "id": "Nzs6PFE9cyEg",
        "outputId": "f9d3b79c-122b-41d4-a01a-07f981a4fec8"
      },
      "execution_count": null,
      "outputs": [
        {
          "output_type": "execute_result",
          "data": {
            "text/plain": [
              "1.1415926500000002"
            ]
          },
          "metadata": {},
          "execution_count": 6
        }
      ]
    },
    {
      "cell_type": "code",
      "source": [
        "pi * pi"
      ],
      "metadata": {
        "colab": {
          "base_uri": "https://localhost:8080/"
        },
        "id": "SdH1EpdDczc4",
        "outputId": "4778bf04-3785-4693-bae7-385fd8bdf042"
      },
      "execution_count": null,
      "outputs": [
        {
          "output_type": "execute_result",
          "data": {
            "text/plain": [
              "9.869604378534024"
            ]
          },
          "metadata": {},
          "execution_count": 7
        }
      ]
    },
    {
      "cell_type": "markdown",
      "source": [
        "원의 둘레와 넓이 구하기"
      ],
      "metadata": {
        "id": "szK8bLjPdPc0"
      }
    },
    {
      "cell_type": "code",
      "source": [
        "#변수 선언과 할당\n",
        "pi = 3.14159265\n",
        "r = 10\n",
        "\n",
        "#변수 참조\n",
        "print(\"원주율 =\", pi)\n",
        "print(\"반지름 =\", r)\n",
        "print(\"원의 둘레 =\", 2 * pi * r)\n",
        "print(\"원의 넓이 =\", pi * r * r)"
      ],
      "metadata": {
        "colab": {
          "base_uri": "https://localhost:8080/"
        },
        "id": "2evBxfwUc0wQ",
        "outputId": "131c56b9-1019-4525-a29e-e82b78693a03"
      },
      "execution_count": null,
      "outputs": [
        {
          "output_type": "stream",
          "name": "stdout",
          "text": [
            "원주율 = 3.14159265\n",
            "반지름 = 10\n",
            "원의 둘레 = 62.831853\n",
            "원의 넓이 = 314.159265\n"
          ]
        }
      ]
    },
    {
      "cell_type": "markdown",
      "source": [
        "복합 대입 연산자"
      ],
      "metadata": {
        "id": "vPhuGaU9jMhm"
      }
    },
    {
      "cell_type": "code",
      "source": [
        "number = 100\n",
        "number += 10\n",
        "number += 20\n",
        "number += 30\n",
        "print(\"number:\", number)"
      ],
      "metadata": {
        "id": "kvR-SwzddndQ",
        "colab": {
          "base_uri": "https://localhost:8080/"
        },
        "outputId": "68c3f09d-0bde-4473-d9a1-a29825d30b50"
      },
      "execution_count": null,
      "outputs": [
        {
          "output_type": "stream",
          "name": "stdout",
          "text": [
            "number: 160\n"
          ]
        }
      ]
    },
    {
      "cell_type": "code",
      "source": [
        "string = \"안녕하세요\"\n",
        "string += \"!\"\n",
        "string += \"!\"\n",
        "print(\"string:\", string)"
      ],
      "metadata": {
        "colab": {
          "base_uri": "https://localhost:8080/"
        },
        "id": "FLciVt81jad_",
        "outputId": "f91ce5f5-70d4-42e1-80f4-4003971a2b7b"
      },
      "execution_count": null,
      "outputs": [
        {
          "output_type": "stream",
          "name": "stdout",
          "text": [
            "string: 안녕하세요!!\n"
          ]
        }
      ]
    },
    {
      "cell_type": "markdown",
      "source": [
        "사용자 입력: input()"
      ],
      "metadata": {
        "id": "lHNXytvCr1jE"
      }
    },
    {
      "cell_type": "code",
      "source": [
        "input(\"인사말을 입력하세요> \")"
      ],
      "metadata": {
        "id": "aiYUG_ohjmYd",
        "colab": {
          "base_uri": "https://localhost:8080/",
          "height": 54
        },
        "outputId": "51857b2c-a592-4344-a7ea-6eeab5dd7a05"
      },
      "execution_count": 3,
      "outputs": [
        {
          "name": "stdout",
          "output_type": "stream",
          "text": [
            "인사말을 입력하세요> 안녕\n"
          ]
        },
        {
          "output_type": "execute_result",
          "data": {
            "text/plain": [
              "'안녕'"
            ],
            "application/vnd.google.colaboratory.intrinsic+json": {
              "type": "string"
            }
          },
          "metadata": {},
          "execution_count": 3
        }
      ]
    },
    {
      "cell_type": "code",
      "source": [
        "string = input(\"인사말 입력> \")\n",
        "print(string)"
      ],
      "metadata": {
        "colab": {
          "base_uri": "https://localhost:8080/"
        },
        "id": "Mmtvo1Vhr8SP",
        "outputId": "176d0524-cdbb-4eaf-ae10-200e11343bd6"
      },
      "execution_count": 4,
      "outputs": [
        {
          "output_type": "stream",
          "name": "stdout",
          "text": [
            "인사말 입력> 안녕\n",
            "안녕\n"
          ]
        }
      ]
    },
    {
      "cell_type": "code",
      "source": [
        "print(type(string))"
      ],
      "metadata": {
        "colab": {
          "base_uri": "https://localhost:8080/"
        },
        "id": "h57OkU4QsvDO",
        "outputId": "a2d404b6-caf7-4512-9a93-ce91fbe698aa"
      },
      "execution_count": 6,
      "outputs": [
        {
          "output_type": "stream",
          "name": "stdout",
          "text": [
            "<class 'str'>\n"
          ]
        }
      ]
    },
    {
      "cell_type": "code",
      "source": [
        "number = input(\"숫자 입력> \")\n",
        "print(number)\n",
        "print(type(number))"
      ],
      "metadata": {
        "colab": {
          "base_uri": "https://localhost:8080/"
        },
        "id": "Xw5r_IsVtLR_",
        "outputId": "5a38adbe-bed4-4a83-8397-c1c61fb744e6"
      },
      "execution_count": 7,
      "outputs": [
        {
          "output_type": "stream",
          "name": "stdout",
          "text": [
            "숫자 입력> 143413\n",
            "143413\n",
            "<class 'str'>\n"
          ]
        }
      ]
    },
    {
      "cell_type": "code",
      "source": [
        "string_a = input(\"입력A> \")\n",
        "int_a = int(string_a)\n",
        "\n",
        "string_b = input(\"입력B> \")\n",
        "int_b = int(string_b)\n",
        "\n",
        "print(\"문자열 자료:\", string_a + string_b)\n",
        "print(\"숫자 자료:\", int_a + int_b)"
      ],
      "metadata": {
        "colab": {
          "base_uri": "https://localhost:8080/"
        },
        "id": "vr-7vXeftYZO",
        "outputId": "98628bd0-9104-4c3a-b5d7-cfcf73d53c5e"
      },
      "execution_count": 8,
      "outputs": [
        {
          "output_type": "stream",
          "name": "stdout",
          "text": [
            "입력A> 123\n",
            "입력B> 456\n",
            "문자열 자료: 123456\n",
            "숫자 자료: 579\n"
          ]
        }
      ]
    },
    {
      "cell_type": "code",
      "source": [
        "output_a = int(\"52\")\n",
        "output_b = float(\"52.273\")\n",
        "\n",
        "print(type(output_a), output_a)\n",
        "print(type(output_b), output_b)"
      ],
      "metadata": {
        "colab": {
          "base_uri": "https://localhost:8080/"
        },
        "id": "vhD8ph4KwFjZ",
        "outputId": "f52d0ccc-2aec-4151-ca7d-93a97bdc641b"
      },
      "execution_count": 9,
      "outputs": [
        {
          "output_type": "stream",
          "name": "stdout",
          "text": [
            "<class 'int'> 52\n",
            "<class 'float'> 52.273\n"
          ]
        }
      ]
    },
    {
      "cell_type": "code",
      "source": [
        "output_a = str(52)\n",
        "output_b = str(52.273)\n",
        "print(type(output_a), output_a)\n",
        "print(type(output_b), output_b)"
      ],
      "metadata": {
        "colab": {
          "base_uri": "https://localhost:8080/"
        },
        "id": "9eAe1mETwv-t",
        "outputId": "e0fc14d4-055e-472e-bc67-250e5bb45154"
      },
      "execution_count": 10,
      "outputs": [
        {
          "output_type": "stream",
          "name": "stdout",
          "text": [
            "<class 'str'> 52\n",
            "<class 'str'> 52.273\n"
          ]
        }
      ]
    },
    {
      "cell_type": "markdown",
      "source": [
        "inch 단위를 cm 단위로 변경하기"
      ],
      "metadata": {
        "id": "KSCJnptIy53G"
      }
    },
    {
      "cell_type": "code",
      "source": [
        "#inch 숫자를 입력\n",
        "inch = float(input(\"inch 단위의 숫자를 입력해주세요: \"))\n",
        "#cm 변수에 cm 값 계산 후 저장\n",
        "cm = inch*2.54\n",
        "#출력\n",
        "print(inch, \"inch는\", cm,\"cm입니다.\")"
      ],
      "metadata": {
        "colab": {
          "base_uri": "https://localhost:8080/"
        },
        "id": "YGm7kwZ4yKEK",
        "outputId": "a927c669-8315-4895-8076-6616e2c961f8"
      },
      "execution_count": 12,
      "outputs": [
        {
          "output_type": "stream",
          "name": "stdout",
          "text": [
            "inch 단위의 숫자를 입력해주세요: 27\n",
            "27.0 inch는 68.58 cm입니다.\n"
          ]
        }
      ]
    },
    {
      "cell_type": "markdown",
      "source": [
        "마무리 문제 6번"
      ],
      "metadata": {
        "id": "QYbb_pe-3he5"
      }
    },
    {
      "cell_type": "code",
      "source": [
        "a = input(\"문자열 입력> \")\n",
        "b = input(\"문자열 입력> \")\n",
        "\n",
        "print(a, b)\n",
        "c = a\n",
        "a = b\n",
        "b = c\n",
        "print(a, b)"
      ],
      "metadata": {
        "colab": {
          "base_uri": "https://localhost:8080/"
        },
        "id": "g0GbEYP7zpHS",
        "outputId": "ccfa4364-2d99-414a-9278-6de583f611ef"
      },
      "execution_count": 13,
      "outputs": [
        {
          "output_type": "stream",
          "name": "stdout",
          "text": [
            "문자열 입력> 안녕하세요\n",
            "문자열 입력> 아침입니다\n",
            "안녕하세요 아침입니다\n",
            "아침입니다 안녕하세요\n"
          ]
        }
      ]
    },
    {
      "cell_type": "code",
      "source": [],
      "metadata": {
        "id": "m6Bm1qhi3wEY"
      },
      "execution_count": null,
      "outputs": []
    }
  ]
}