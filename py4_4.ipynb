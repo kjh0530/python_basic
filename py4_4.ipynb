{
  "nbformat": 4,
  "nbformat_minor": 0,
  "metadata": {
    "colab": {
      "provenance": [],
      "authorship_tag": "ABX9TyMILlrMtsvAe0aomeJivCg8",
      "include_colab_link": true
    },
    "kernelspec": {
      "name": "python3",
      "display_name": "Python 3"
    },
    "language_info": {
      "name": "python"
    }
  },
  "cells": [
    {
      "cell_type": "markdown",
      "metadata": {
        "id": "view-in-github",
        "colab_type": "text"
      },
      "source": [
        "<a href=\"https://colab.research.google.com/github/kjh0530/python_basic/blob/main/py4_4.ipynb\" target=\"_parent\"><img src=\"https://colab.research.google.com/assets/colab-badge.svg\" alt=\"Open In Colab\"/></a>"
      ]
    },
    {
      "cell_type": "markdown",
      "source": [
        "리스트에 적용할 수 있는 기본함수: min(), max(), sum()"
      ],
      "metadata": {
        "id": "aGVLW0e8CNXU"
      }
    },
    {
      "cell_type": "code",
      "execution_count": 1,
      "metadata": {
        "colab": {
          "base_uri": "https://localhost:8080/"
        },
        "id": "SxeiUHcuAVdF",
        "outputId": "ef6821d0-ee5b-4fb4-d0ee-735f851bf1c0"
      },
      "outputs": [
        {
          "output_type": "stream",
          "name": "stdout",
          "text": [
            "32\n",
            "273\n",
            "537\n"
          ]
        }
      ],
      "source": [
        "numbers = [103, 52, 273, 32, 77]\n",
        "print(min(numbers))\n",
        "print(max(numbers))\n",
        "print(sum(numbers))"
      ]
    },
    {
      "cell_type": "code",
      "source": [
        "list_a = [1, 2, 3, 4, 5]\n",
        "list_reversed = reversed(list_a)\n",
        "\n",
        "print(\"# reversed() 함수\")\n",
        "print(\"reversed([1, 2, 3, 4, 5]):\", list_reversed)\n",
        "print(\"list(reversed([1, 2, 3, 4, 5])):\", list(list_reversed))\n",
        "print()\n",
        "\n",
        "print(\"# reversed() 함수와 반복문\")\n",
        "print(\"for i in reversed([1, 2, 3, 4, 5]):\")\n",
        "for i in reversed(list_a):\n",
        "  print(\"-\", i)"
      ],
      "metadata": {
        "colab": {
          "base_uri": "https://localhost:8080/"
        },
        "id": "Eh0SPzyZCflz",
        "outputId": "c454a95e-10a8-4eb3-97f5-da60e877fd3d"
      },
      "execution_count": 2,
      "outputs": [
        {
          "output_type": "stream",
          "name": "stdout",
          "text": [
            "# reversed() 함수\n",
            "reversed([1, 2, 3, 4, 5]): <list_reverseiterator object at 0x7e22e1126d10>\n",
            "list(reversed([1, 2, 3, 4, 5])): [5, 4, 3, 2, 1]\n",
            "\n",
            "# reversed() 함수와 반복문\n",
            "for i in reversed([1, 2, 3, 4, 5]):\n",
            "- 5\n",
            "- 4\n",
            "- 3\n",
            "- 2\n",
            "- 1\n"
          ]
        }
      ]
    },
    {
      "cell_type": "code",
      "source": [
        "example_list = [\"요소A\", \"요소B\", \"요소C\"]\n",
        "\n",
        "print(\"# 단순 출력\")\n",
        "print(example_list)\n",
        "print()\n",
        "\n",
        "print(\"# enumerate() 함수 적용 출력\")\n",
        "print(enumerate(example_list))\n",
        "print()\n",
        "\n",
        "print(\"# list() 함수로 강제 변환 출력\")\n",
        "print(list(enumerate(example_list)))\n",
        "print()\n",
        "\n",
        "print(\"# 반복문과 조합하기\")\n",
        "for i, value in enumerate(example_list):\n",
        "  print(\"{}번째 요소는 {}입니다.\".format(i, value))"
      ],
      "metadata": {
        "colab": {
          "base_uri": "https://localhost:8080/"
        },
        "id": "XBwN8OmQD472",
        "outputId": "5f74d3eb-9ea9-46ee-b120-06a8a1fc79c2"
      },
      "execution_count": 3,
      "outputs": [
        {
          "output_type": "stream",
          "name": "stdout",
          "text": [
            "# 단순 출력\n",
            "['요소A', '요소B', '요소C']\n",
            "\n",
            "# enumerate() 함수 적용 출력\n",
            "<enumerate object at 0x7e22d019c080>\n",
            "\n",
            "# list() 함수로 강제 변환 출력\n",
            "[(0, '요소A'), (1, '요소B'), (2, '요소C')]\n",
            "\n",
            "# 반복문과 조합하기\n",
            "0번째 요소는 요소A입니다.\n",
            "1번째 요소는 요소B입니다.\n",
            "2번째 요소는 요소C입니다.\n"
          ]
        }
      ]
    },
    {
      "cell_type": "code",
      "source": [
        "example_dictionary = {\n",
        "    \"키A\": \"값A\",\n",
        "    \"키B\": \"값B\",\n",
        "    \"키C\": \"값C\",\n",
        "}\n",
        "\n",
        "print(\"# 딕셔너리의 items() 함수\")\n",
        "print(\"items():\", example_dictionary.items())\n",
        "print()\n",
        "\n",
        "print(\"# 딕셔너리의 items() 함수와 반복문 조합\")\n",
        "\n",
        "for key, element in example_dictionary.items():\n",
        "  print(\"dictionary[{}] = {}\".format(key, element))"
      ],
      "metadata": {
        "colab": {
          "base_uri": "https://localhost:8080/"
        },
        "id": "Ly6lRHfHGMnW",
        "outputId": "76758692-405e-41a1-fbad-16786db78744"
      },
      "execution_count": 4,
      "outputs": [
        {
          "output_type": "stream",
          "name": "stdout",
          "text": [
            "# 딕셔너리의 items() 함수\n",
            "items(): dict_items([('키A', '값A'), ('키B', '값B'), ('키C', '값C')])\n",
            "\n",
            "# 딕셔너리의 items() 함수와 반복문 조합\n",
            "dictionary[키A] = 값A\n",
            "dictionary[키B] = 값B\n",
            "dictionary[키C] = 값C\n"
          ]
        }
      ]
    },
    {
      "cell_type": "code",
      "source": [
        "array = []\n",
        "\n",
        "for i in range(0, 20, 2):\n",
        "  array.append(i*i)\n",
        "\n",
        "print(array)"
      ],
      "metadata": {
        "colab": {
          "base_uri": "https://localhost:8080/"
        },
        "id": "gA-xfMFiJRdk",
        "outputId": "53ae3b52-a4c1-4647-961e-d0e386846ac2"
      },
      "execution_count": 5,
      "outputs": [
        {
          "output_type": "stream",
          "name": "stdout",
          "text": [
            "[0, 4, 16, 36, 64, 100, 144, 196, 256, 324]\n"
          ]
        }
      ]
    },
    {
      "cell_type": "code",
      "source": [
        "array = [i * i for i in range(0, 20, 2)]\n",
        "\n",
        "print(array)"
      ],
      "metadata": {
        "colab": {
          "base_uri": "https://localhost:8080/"
        },
        "id": "V2ny72vkKW9p",
        "outputId": "79044938-e5a9-437b-b724-808f08f35696"
      },
      "execution_count": 6,
      "outputs": [
        {
          "output_type": "stream",
          "name": "stdout",
          "text": [
            "[0, 4, 16, 36, 64, 100, 144, 196, 256, 324]\n"
          ]
        }
      ]
    },
    {
      "cell_type": "code",
      "source": [
        "array = [\"사과\", \"자두\", \"초콜릿\", \"바나나\", \"체리\"]\n",
        "output = [fruit for fruit in array if fruit != \"초콜릿\"]\n",
        "\n",
        "print(output)"
      ],
      "metadata": {
        "colab": {
          "base_uri": "https://localhost:8080/"
        },
        "id": "LaENd0zCKneB",
        "outputId": "dd5eeffd-0de3-453f-c2ed-9bac0b70e71c"
      },
      "execution_count": 7,
      "outputs": [
        {
          "output_type": "stream",
          "name": "stdout",
          "text": [
            "['사과', '자두', '바나나', '체리']\n"
          ]
        }
      ]
    },
    {
      "cell_type": "markdown",
      "source": [
        "마무리 문제"
      ],
      "metadata": {
        "id": "tVDrDCznNXLd"
      }
    },
    {
      "cell_type": "code",
      "source": [
        "output = [i for i in range(1, 100) if \"{:b}\".format(i).count(\"0\") == 1]\n",
        "for i in output:\n",
        "  print(\"{} : {}\".format(i, \"{:b}\".format(i)))\n",
        "print(\"합계:\", sum(output))"
      ],
      "metadata": {
        "colab": {
          "base_uri": "https://localhost:8080/"
        },
        "id": "3bDJo5z4LvLg",
        "outputId": "8f527d48-cdde-4906-a8ee-e3fbfacfaf18"
      },
      "execution_count": 8,
      "outputs": [
        {
          "output_type": "stream",
          "name": "stdout",
          "text": [
            "2 : 10\n",
            "5 : 101\n",
            "6 : 110\n",
            "11 : 1011\n",
            "13 : 1101\n",
            "14 : 1110\n",
            "23 : 10111\n",
            "27 : 11011\n",
            "29 : 11101\n",
            "30 : 11110\n",
            "47 : 101111\n",
            "55 : 110111\n",
            "59 : 111011\n",
            "61 : 111101\n",
            "62 : 111110\n",
            "95 : 1011111\n",
            "합계: 539\n"
          ]
        }
      ]
    },
    {
      "cell_type": "markdown",
      "source": [
        "도전 문제"
      ],
      "metadata": {
        "id": "cw9XaT56Ou0E"
      }
    },
    {
      "cell_type": "code",
      "source": [
        "list_a = [1, 2, 3, 4, 1, 2, 3, 1, 4, 1, 2, 3]\n",
        "counter = {}\n",
        "for i in list_a:\n",
        "  if i not in counter:\n",
        "    counter[i] = 0\n",
        "  counter[i] += 1\n",
        "\n",
        "print(\"{}에서 \\n사용된 숫자의 종류는 {}개입니다.\\n참고: {}\".format(list_a, len(counter), counter))"
      ],
      "metadata": {
        "colab": {
          "base_uri": "https://localhost:8080/"
        },
        "id": "Kqw4Z36IOUMR",
        "outputId": "c97a924a-69ea-4253-d76f-08c4981ea973"
      },
      "execution_count": 14,
      "outputs": [
        {
          "output_type": "stream",
          "name": "stdout",
          "text": [
            "[1, 2, 3, 4, 1, 2, 3, 1, 4, 1, 2, 3]에서 \n",
            "사용된 숫자의 종류는 4개입니다.\n",
            "참고: {1: 4, 2: 3, 3: 3, 4: 2}\n"
          ]
        }
      ]
    },
    {
      "cell_type": "code",
      "source": [
        "string = input(\"염기 서열을 입력해주세요:\")\n",
        "count = {'a':0, 't':0, 'g':0, 'c':0}\n",
        "count['a']= string.count('a')\n",
        "count['t']= string.count('t')\n",
        "count['g']= string.count('g')\n",
        "count['c']= string.count('c')\n",
        "print(count)"
      ],
      "metadata": {
        "colab": {
          "base_uri": "https://localhost:8080/"
        },
        "id": "iZYf4YZxRLBV",
        "outputId": "d6798a8b-dd19-4cdf-93d1-5102eda72d36"
      },
      "execution_count": 16,
      "outputs": [
        {
          "output_type": "stream",
          "name": "stdout",
          "text": [
            "염기 서열을 입력해주세요:ctacaatgtcagtatacccattgcattagccgg\n",
            "{'a': 9, 't': 9, 'g': 6, 'c': 9}\n"
          ]
        }
      ]
    },
    {
      "cell_type": "code",
      "source": [
        "string = input(\"염기 서열을 입력해주세요:\")\n",
        "counter = {}\n",
        "\n",
        "for i in range(0, len(string), 3):\n",
        "  codon = string[i:i+3]\n",
        "  if len(codon) != 3:\n",
        "    break\n",
        "  if codon not in counter:\n",
        "    counter[codon] = 0\n",
        "  counter[codon] += 1\n",
        "print(counter)"
      ],
      "metadata": {
        "colab": {
          "base_uri": "https://localhost:8080/"
        },
        "id": "3xUzSz_yUgCg",
        "outputId": "80eed407-0008-4ae3-ab8e-66ce3eec4268"
      },
      "execution_count": 19,
      "outputs": [
        {
          "output_type": "stream",
          "name": "stdout",
          "text": [
            "염기 서열을 입력해주세요:ctaca\n",
            "{'cta': 1}\n"
          ]
        }
      ]
    },
    {
      "cell_type": "code",
      "source": [
        "a = [1, 2, [3, 4], 5, [6, 7], [8, 9]]\n",
        "b = []\n",
        "for i in a:\n",
        "  if type(i) == list:\n",
        "    for j in i:\n",
        "      b.append(j)\n",
        "    continue\n",
        "  b.append(i)\n",
        "\n",
        "print(b)"
      ],
      "metadata": {
        "colab": {
          "base_uri": "https://localhost:8080/"
        },
        "id": "LvZ_FO7ZXDDx",
        "outputId": "a2f0292f-c142-451f-b117-deaa70bd158a"
      },
      "execution_count": 27,
      "outputs": [
        {
          "output_type": "stream",
          "name": "stdout",
          "text": [
            "[1, 2, 3, 4, 5, 6, 7, 8, 9]\n"
          ]
        }
      ]
    },
    {
      "cell_type": "code",
      "source": [],
      "metadata": {
        "id": "YyKEte-WZVqQ"
      },
      "execution_count": null,
      "outputs": []
    }
  ]
}